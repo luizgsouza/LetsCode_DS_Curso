{
 "cells": [
  {
   "cell_type": "markdown",
   "id": "4f51956c",
   "metadata": {},
   "source": [
    "# Aula 3.2 - Pandas pt1\n",
    "\n",
    "O Pandas é uma das bibliotecas de processamento de dados do Python mais importantes. As estruturas de dados básicas dele são Series e Dataframes, que nos ajudam a expressar dados na forma de tabelas."
   ]
  },
  {
   "cell_type": "markdown",
   "id": "7db9134f",
   "metadata": {},
   "source": [
    "---"
   ]
  },
  {
   "cell_type": "markdown",
   "id": "9d73761c",
   "metadata": {},
   "source": [
    "## Introdução"
   ]
  },
  {
   "cell_type": "code",
   "execution_count": 1,
   "id": "7f10b5d2",
   "metadata": {},
   "outputs": [],
   "source": [
    "# No caso do numpy, sempre usamos a abreviação \"np\".\n",
    "import numpy as np\n",
    "\n",
    "# No caso do pandas, nos sempre usamos a abreviação \"pd\"\n",
    "import pandas as pd"
   ]
  },
  {
   "cell_type": "markdown",
   "id": "bc095962",
   "metadata": {},
   "source": [
    "Antes de discutirmos como funcionam as estruturas de dados básicas do Pandas, vamos tentar fazer algo mais básico: Ler dados externos. \n",
    "\n",
    "Vamos ver como ler arquivos do tipo csv."
   ]
  },
  {
   "cell_type": "code",
   "execution_count": 2,
   "id": "b6b3d28f",
   "metadata": {},
   "outputs": [],
   "source": [
    "# A função \"read_csv\" é a função básica para leitura de arquivos do tipo csv.\n",
    "df = pd.read_csv('dados/dados_artificiais.csv')"
   ]
  },
  {
   "cell_type": "code",
   "execution_count": null,
   "id": "2c7481fa",
   "metadata": {},
   "outputs": [],
   "source": [
    "df"
   ]
  },
  {
   "cell_type": "code",
   "execution_count": null,
   "id": "6b5ab47a",
   "metadata": {
    "scrolled": true
   },
   "outputs": [],
   "source": [
    "# A nossa variável \"df\" é chamada um Pandas DataFrame.\n",
    "print(type(df))"
   ]
  },
  {
   "cell_type": "code",
   "execution_count": null,
   "id": "091785c7",
   "metadata": {},
   "outputs": [],
   "source": [
    "# Um dataframe nada mais é do que uma tabela.\n",
    "# Nós podemos também pegar cada coluna da tabela como um Pandas Series.\n",
    "display(df['altura'])\n",
    "print(type(df['altura']))"
   ]
  },
  {
   "cell_type": "markdown",
   "id": "cb884ee1",
   "metadata": {},
   "source": [
    "Existe, porém, um problema. Arquivos csv vem de todas as formas possíveis e imaginárias.\n",
    "\n",
    "É igual o Bob Esponja com uma caixa vazia: A brincadeira não tem limites.\n",
    "\n",
    "Vamos então ter muitas dificuldades em ler alguns arquivos de dados agora, pra não ter mais dificuldade no futuro. Para isso, colocamos no drive uma pasta com dados disponibilizados pelo livro \"Estatística Básica\", dos autores Bussab e Morettin.\n",
    "\n",
    "Tentemos ler todos eles usando a função read_csv.\n",
    "\n",
    "Se precisar de ajuda: https://pandas.pydata.org/docs/reference/api/pandas.read_csv.html"
   ]
  },
  {
   "cell_type": "code",
   "execution_count": 38,
   "id": "98ee56c7",
   "metadata": {},
   "outputs": [
    {
     "name": "stdout",
     "output_type": "stream",
     "text": [
      "  regiao  uf  superficie  pop_urbana  pop_rural      total  densidade\n",
      "0  Norte  RO      238513    762864.0   468143.0  1231007.0       5.16\n",
      "1  Norte  AC      153150    315401.0   168322.0   483726.0       3.16\n",
      "2  Norte  AM     1577820   1766166.0   623113.0  2389279.0       1.51\n",
      "3  Norte  RR      225116    174277.0    72854.0   247131.0       1.10\n",
      "4  Norte  PA     1253165   2949017.0  2561832.0  5510849.0       4.40\n",
      "regiao         object\n",
      "uf             object\n",
      "superficie      int64\n",
      "pop_urbana    float64\n",
      "pop_rural     float64\n",
      "total         float64\n",
      "densidade     float64\n",
      "dtype: object\n"
     ]
    }
   ],
   "source": [
    "# Ler os dados cd_brasil\n",
    "df_cd_brasil = pd.read_csv('dados/cd_brasil_estat_basica_bussab_morettin.csv', decimal=',')\n",
    "print(df_cd_brasil.head())\n",
    "print(df_cd_brasil.dtypes)"
   ]
  },
  {
   "cell_type": "code",
   "execution_count": 7,
   "id": "c6268ef4",
   "metadata": {},
   "outputs": [
    {
     "data": {
      "text/html": [
       "<div>\n",
       "<style scoped>\n",
       "    .dataframe tbody tr th:only-of-type {\n",
       "        vertical-align: middle;\n",
       "    }\n",
       "\n",
       "    .dataframe tbody tr th {\n",
       "        vertical-align: top;\n",
       "    }\n",
       "\n",
       "    .dataframe thead th {\n",
       "        text-align: right;\n",
       "    }\n",
       "</style>\n",
       "<table border=\"1\" class=\"dataframe\">\n",
       "  <thead>\n",
       "    <tr style=\"text-align: right;\">\n",
       "      <th></th>\n",
       "      <th>n</th>\n",
       "      <th>municipio</th>\n",
       "      <th>populacao</th>\n",
       "    </tr>\n",
       "  </thead>\n",
       "  <tbody>\n",
       "    <tr>\n",
       "      <th>0</th>\n",
       "      <td>1</td>\n",
       "      <td>São Paulo(SP)</td>\n",
       "      <td>988,8</td>\n",
       "    </tr>\n",
       "    <tr>\n",
       "      <th>1</th>\n",
       "      <td>2</td>\n",
       "      <td>Rio de Janeiro(RJ)</td>\n",
       "      <td>556,9</td>\n",
       "    </tr>\n",
       "    <tr>\n",
       "      <th>2</th>\n",
       "      <td>3</td>\n",
       "      <td>Salvador(BA)</td>\n",
       "      <td>224,6</td>\n",
       "    </tr>\n",
       "    <tr>\n",
       "      <th>3</th>\n",
       "      <td>4</td>\n",
       "      <td>Belo Horizonte(MG)</td>\n",
       "      <td>210,9</td>\n",
       "    </tr>\n",
       "    <tr>\n",
       "      <th>4</th>\n",
       "      <td>5</td>\n",
       "      <td>Fortaleza(CE)</td>\n",
       "      <td>201,5</td>\n",
       "    </tr>\n",
       "  </tbody>\n",
       "</table>\n",
       "</div>"
      ],
      "text/plain": [
       "   n           municipio populacao\n",
       "0  1       São Paulo(SP)     988,8\n",
       "1  2  Rio de Janeiro(RJ)     556,9\n",
       "2  3        Salvador(BA)     224,6\n",
       "3  4  Belo Horizonte(MG)     210,9\n",
       "4  5       Fortaleza(CE)     201,5"
      ]
     },
     "execution_count": 7,
     "metadata": {},
     "output_type": "execute_result"
    }
   ],
   "source": [
    "# Ler os dados cd_municipios\n",
    "df_cd_municipios = pd.read_csv('dados/cd_municipios_estat_basica_bussab_morettin.csv', sep=';')\n",
    "df_cd_municipios.head()"
   ]
  },
  {
   "cell_type": "code",
   "execution_count": 28,
   "id": "da543cfb",
   "metadata": {},
   "outputs": [
    {
     "data": {
      "text/html": [
       "<div>\n",
       "<style scoped>\n",
       "    .dataframe tbody tr th:only-of-type {\n",
       "        vertical-align: middle;\n",
       "    }\n",
       "\n",
       "    .dataframe tbody tr th {\n",
       "        vertical-align: top;\n",
       "    }\n",
       "\n",
       "    .dataframe thead th {\n",
       "        text-align: right;\n",
       "    }\n",
       "</style>\n",
       "<table border=\"1\" class=\"dataframe\">\n",
       "  <thead>\n",
       "    <tr style=\"text-align: right;\">\n",
       "      <th></th>\n",
       "      <th>nota</th>\n",
       "    </tr>\n",
       "  </thead>\n",
       "  <tbody>\n",
       "    <tr>\n",
       "      <th>1</th>\n",
       "      <td>3.5</td>\n",
       "    </tr>\n",
       "    <tr>\n",
       "      <th>2</th>\n",
       "      <td>6.5</td>\n",
       "    </tr>\n",
       "    <tr>\n",
       "      <th>3</th>\n",
       "      <td>5.0</td>\n",
       "    </tr>\n",
       "    <tr>\n",
       "      <th>4</th>\n",
       "      <td>8.5</td>\n",
       "    </tr>\n",
       "    <tr>\n",
       "      <th>5</th>\n",
       "      <td>4.5</td>\n",
       "    </tr>\n",
       "  </tbody>\n",
       "</table>\n",
       "</div>"
      ],
      "text/plain": [
       "   nota\n",
       "1   3.5\n",
       "2   6.5\n",
       "3   5.0\n",
       "4   8.5\n",
       "5   4.5"
      ]
     },
     "execution_count": 28,
     "metadata": {},
     "output_type": "execute_result"
    }
   ],
   "source": [
    "# Ler os dados cd_notas\n",
    "df_cd_notas = pd.read_csv('dados/cd_notas_estat_basica_bussab_morettin.csv', sep=\" \", index_col=0, decimal=',', thousands='.')\n",
    "df_cd_notas.head()"
   ]
  },
  {
   "cell_type": "code",
   "execution_count": 25,
   "id": "cee1da3a",
   "metadata": {},
   "outputs": [
    {
     "data": {
      "text/html": [
       "<div>\n",
       "<style scoped>\n",
       "    .dataframe tbody tr th:only-of-type {\n",
       "        vertical-align: middle;\n",
       "    }\n",
       "\n",
       "    .dataframe tbody tr th {\n",
       "        vertical-align: top;\n",
       "    }\n",
       "\n",
       "    .dataframe thead th {\n",
       "        text-align: right;\n",
       "    }\n",
       "</style>\n",
       "<table border=\"1\" class=\"dataframe\">\n",
       "  <thead>\n",
       "    <tr style=\"text-align: right;\">\n",
       "      <th></th>\n",
       "      <th>veiculo</th>\n",
       "      <th>preco</th>\n",
       "      <th>comprimento</th>\n",
       "      <th>moto</th>\n",
       "      <th>N_I</th>\n",
       "    </tr>\n",
       "  </thead>\n",
       "  <tbody>\n",
       "    <tr>\n",
       "      <th>1</th>\n",
       "      <td>Asia Towner</td>\n",
       "      <td>9440</td>\n",
       "      <td>3,36</td>\n",
       "      <td>40</td>\n",
       "      <td>I</td>\n",
       "    </tr>\n",
       "    <tr>\n",
       "      <th>2</th>\n",
       "      <td>Audi A3</td>\n",
       "      <td>38850</td>\n",
       "      <td>4,15</td>\n",
       "      <td>125</td>\n",
       "      <td>I</td>\n",
       "    </tr>\n",
       "    <tr>\n",
       "      <th>3</th>\n",
       "      <td>Chevrolet Astra</td>\n",
       "      <td>10532</td>\n",
       "      <td>4,11</td>\n",
       "      <td>110</td>\n",
       "      <td>N</td>\n",
       "    </tr>\n",
       "    <tr>\n",
       "      <th>4</th>\n",
       "      <td>Chevrolet Blazer</td>\n",
       "      <td>16346</td>\n",
       "      <td>4,6</td>\n",
       "      <td>106</td>\n",
       "      <td>N</td>\n",
       "    </tr>\n",
       "    <tr>\n",
       "      <th>5</th>\n",
       "      <td>Chevrolet Corsa</td>\n",
       "      <td>6176</td>\n",
       "      <td>3,73</td>\n",
       "      <td>60</td>\n",
       "      <td>N</td>\n",
       "    </tr>\n",
       "  </tbody>\n",
       "</table>\n",
       "</div>"
      ],
      "text/plain": [
       "            veiculo  preco comprimento  moto N_I\n",
       "1       Asia Towner   9440        3,36    40   I\n",
       "2           Audi A3  38850        4,15   125   I\n",
       "3   Chevrolet Astra  10532        4,11   110   N\n",
       "4  Chevrolet Blazer  16346         4,6   106   N\n",
       "5   Chevrolet Corsa   6176        3,73    60   N"
      ]
     },
     "execution_count": 25,
     "metadata": {},
     "output_type": "execute_result"
    }
   ],
   "source": [
    "# Ler os dados cd_veiculos\n",
    "df_cd_veiculos = pd.read_csv('dados/cd_veiculos_estat_basica_bussab_morettin.csv', quotechar = '\"', index_col=0, sep=\" \")\n",
    "df_cd_veiculos.head()"
   ]
  },
  {
   "cell_type": "markdown",
   "id": "1e7dafc8",
   "metadata": {},
   "source": [
    "Também é muito comum querermos criar dataframes do zero. Talvez estejamos usando dados simulados, talvez seja o resultado de algum outro pipeline de dados. Existem milhares de motivos. "
   ]
  },
  {
   "cell_type": "code",
   "execution_count": 39,
   "id": "1f4e7d30",
   "metadata": {},
   "outputs": [
    {
     "data": {
      "text/html": [
       "<div>\n",
       "<style scoped>\n",
       "    .dataframe tbody tr th:only-of-type {\n",
       "        vertical-align: middle;\n",
       "    }\n",
       "\n",
       "    .dataframe tbody tr th {\n",
       "        vertical-align: top;\n",
       "    }\n",
       "\n",
       "    .dataframe thead th {\n",
       "        text-align: right;\n",
       "    }\n",
       "</style>\n",
       "<table border=\"1\" class=\"dataframe\">\n",
       "  <thead>\n",
       "    <tr style=\"text-align: right;\">\n",
       "      <th></th>\n",
       "      <th>0</th>\n",
       "      <th>1</th>\n",
       "      <th>2</th>\n",
       "    </tr>\n",
       "  </thead>\n",
       "  <tbody>\n",
       "    <tr>\n",
       "      <th>0</th>\n",
       "      <td>1.67</td>\n",
       "      <td>89.0</td>\n",
       "      <td>1.0</td>\n",
       "    </tr>\n",
       "    <tr>\n",
       "      <th>1</th>\n",
       "      <td>1.79</td>\n",
       "      <td>85.0</td>\n",
       "      <td>0.0</td>\n",
       "    </tr>\n",
       "    <tr>\n",
       "      <th>2</th>\n",
       "      <td>1.69</td>\n",
       "      <td>65.0</td>\n",
       "      <td>1.0</td>\n",
       "    </tr>\n",
       "    <tr>\n",
       "      <th>3</th>\n",
       "      <td>1.54</td>\n",
       "      <td>57.0</td>\n",
       "      <td>0.0</td>\n",
       "    </tr>\n",
       "    <tr>\n",
       "      <th>4</th>\n",
       "      <td>1.50</td>\n",
       "      <td>45.0</td>\n",
       "      <td>1.0</td>\n",
       "    </tr>\n",
       "    <tr>\n",
       "      <th>5</th>\n",
       "      <td>1.78</td>\n",
       "      <td>91.0</td>\n",
       "      <td>0.0</td>\n",
       "    </tr>\n",
       "    <tr>\n",
       "      <th>6</th>\n",
       "      <td>1.72</td>\n",
       "      <td>67.0</td>\n",
       "      <td>1.0</td>\n",
       "    </tr>\n",
       "    <tr>\n",
       "      <th>7</th>\n",
       "      <td>1.77</td>\n",
       "      <td>76.0</td>\n",
       "      <td>1.0</td>\n",
       "    </tr>\n",
       "  </tbody>\n",
       "</table>\n",
       "</div>"
      ],
      "text/plain": [
       "      0     1    2\n",
       "0  1.67  89.0  1.0\n",
       "1  1.79  85.0  0.0\n",
       "2  1.69  65.0  1.0\n",
       "3  1.54  57.0  0.0\n",
       "4  1.50  45.0  1.0\n",
       "5  1.78  91.0  0.0\n",
       "6  1.72  67.0  1.0\n",
       "7  1.77  76.0  1.0"
      ]
     },
     "execution_count": 39,
     "metadata": {},
     "output_type": "execute_result"
    }
   ],
   "source": [
    "# Agora temos a tabela de dados abaixo.\n",
    "table = np.array([[1.67, 89., 1],\n",
    "                  [1.79, 85., 0],\n",
    "                  [1.69, 65., 1],\n",
    "                  [1.54, 57., 0],\n",
    "                  [1.50, 45., 1],\n",
    "                  [1.78, 91., 0],\n",
    "                  [1.72, 67., 1],\n",
    "                  [1.77, 76., 1]])\n",
    "\n",
    "# Pesquise em https://pandas.pydata.org/docs/reference/api/pandas.DataFrame.html,\n",
    "# e veja como podemos transformar essa tabela de dados em um dataframe.\n",
    "pd.DataFrame(table)\n"
   ]
  }
 ],
 "metadata": {
  "interpreter": {
   "hash": "a7f1401f5b724d56b656f679c2b3c40d4b37fd37e38d4f9cd8c891fdc9d0474f"
  },
  "kernelspec": {
   "display_name": "Python [conda env:data_science]",
   "language": "python",
   "name": "python3"
  },
  "language_info": {
   "codemirror_mode": {
    "name": "ipython",
    "version": 3
   },
   "file_extension": ".py",
   "mimetype": "text/x-python",
   "name": "python",
   "nbconvert_exporter": "python",
   "pygments_lexer": "ipython3",
   "version": "3.8.12"
  }
 },
 "nbformat": 4,
 "nbformat_minor": 5
}
