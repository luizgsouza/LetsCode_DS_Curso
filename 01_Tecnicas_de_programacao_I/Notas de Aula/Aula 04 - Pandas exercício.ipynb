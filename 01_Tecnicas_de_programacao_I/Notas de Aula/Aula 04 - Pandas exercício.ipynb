{
 "cells": [
  {
   "cell_type": "markdown",
   "id": "4f51956c",
   "metadata": {},
   "source": [
    "# Aula 4 - Exercício de Pandas\n",
    "\n",
    "Vamos praticando com o Pandas enquanto discutimos cada ponto de manipulação de dados com ele."
   ]
  },
  {
   "cell_type": "markdown",
   "id": "7db9134f",
   "metadata": {},
   "source": [
    "---"
   ]
  },
  {
   "cell_type": "markdown",
   "id": "803b4259",
   "metadata": {},
   "source": [
    "Vamos usar [dados do IBGE sobre a população Brasileira](https://www.ibge.gov.br/estatisticas/sociais/populacao.html), e tentar aproveitar o Pandas para extrair algumas informações.\n",
    "\n",
    "O objetivo dessa primeira parte é aprendermos algumas funcionalidades básicas para começarmos a olhar os nossos dados. É sempre importante sabermos qual tipo de dados nós temos, qual a cara deles, se tem algum erro, quantas linhas temos, etc...\n",
    "\n",
    "Isso nos ajuda muito a nos preparar para de fato começar a fazer análises de dados."
   ]
  },
  {
   "cell_type": "markdown",
   "id": "b30a3159",
   "metadata": {},
   "source": [
    "## Lendo o arquivo"
   ]
  },
  {
   "cell_type": "code",
   "execution_count": 1,
   "id": "041bc1af",
   "metadata": {},
   "outputs": [],
   "source": [
    "# Começamos sempre importando nossas bibliotecas.\n",
    "import numpy as np\n",
    "import pandas as pd"
   ]
  },
  {
   "cell_type": "code",
   "execution_count": 54,
   "id": "8467ea4e",
   "metadata": {},
   "outputs": [
    {
     "data": {
      "text/html": [
       "<div>\n",
       "<style scoped>\n",
       "    .dataframe tbody tr th:only-of-type {\n",
       "        vertical-align: middle;\n",
       "    }\n",
       "\n",
       "    .dataframe tbody tr th {\n",
       "        vertical-align: top;\n",
       "    }\n",
       "\n",
       "    .dataframe thead th {\n",
       "        text-align: right;\n",
       "    }\n",
       "</style>\n",
       "<table border=\"1\" class=\"dataframe\">\n",
       "  <thead>\n",
       "    <tr style=\"text-align: right;\">\n",
       "      <th></th>\n",
       "      <th>UF</th>\n",
       "      <th>COD. UF</th>\n",
       "      <th>COD. MUNIC</th>\n",
       "      <th>NOME DO MUNICÍPIO</th>\n",
       "      <th>POPULAÇÃO ESTIMADA</th>\n",
       "    </tr>\n",
       "  </thead>\n",
       "  <tbody>\n",
       "    <tr>\n",
       "      <th>0</th>\n",
       "      <td>RO</td>\n",
       "      <td>11</td>\n",
       "      <td>15</td>\n",
       "      <td>Alta Floresta D'Oeste</td>\n",
       "      <td>22516</td>\n",
       "    </tr>\n",
       "    <tr>\n",
       "      <th>1</th>\n",
       "      <td>RO</td>\n",
       "      <td>11</td>\n",
       "      <td>23</td>\n",
       "      <td>Ariquemes</td>\n",
       "      <td>111148</td>\n",
       "    </tr>\n",
       "    <tr>\n",
       "      <th>2</th>\n",
       "      <td>RO</td>\n",
       "      <td>11</td>\n",
       "      <td>31</td>\n",
       "      <td>Cabixi</td>\n",
       "      <td>5067</td>\n",
       "    </tr>\n",
       "    <tr>\n",
       "      <th>3</th>\n",
       "      <td>RO</td>\n",
       "      <td>11</td>\n",
       "      <td>49</td>\n",
       "      <td>Cacoal</td>\n",
       "      <td>86416</td>\n",
       "    </tr>\n",
       "    <tr>\n",
       "      <th>4</th>\n",
       "      <td>RO</td>\n",
       "      <td>11</td>\n",
       "      <td>56</td>\n",
       "      <td>Cerejeiras</td>\n",
       "      <td>16088</td>\n",
       "    </tr>\n",
       "  </tbody>\n",
       "</table>\n",
       "</div>"
      ],
      "text/plain": [
       "   UF  COD. UF  COD. MUNIC      NOME DO MUNICÍPIO  POPULAÇÃO ESTIMADA\n",
       "0  RO       11          15  Alta Floresta D'Oeste               22516\n",
       "1  RO       11          23              Ariquemes              111148\n",
       "2  RO       11          31                 Cabixi                5067\n",
       "3  RO       11          49                 Cacoal               86416\n",
       "4  RO       11          56             Cerejeiras               16088"
      ]
     },
     "execution_count": 54,
     "metadata": {},
     "output_type": "execute_result"
    }
   ],
   "source": [
    "# Tente ler abaixo os dados de população para um dataframe, usando pd.read_table\n",
    "\n",
    "df = pd.read_table('dados/populacao_brasileira_por_municipio.txt', sep=\";\", thousands=\".\")\n",
    "df.head()"
   ]
  },
  {
   "cell_type": "code",
   "execution_count": 57,
   "id": "fdd13227",
   "metadata": {},
   "outputs": [
    {
     "name": "stdout",
     "output_type": "stream",
     "text": [
      "<class 'pandas.core.frame.DataFrame'>\n",
      "RangeIndex: 5570 entries, 0 to 5569\n",
      "Data columns (total 5 columns):\n",
      " #   Column              Non-Null Count  Dtype \n",
      "---  ------              --------------  ----- \n",
      " 0   UF                  5570 non-null   object\n",
      " 1   COD. UF             5570 non-null   int64 \n",
      " 2   COD. MUNIC          5570 non-null   int64 \n",
      " 3   NOME DO MUNICÍPIO   5570 non-null   object\n",
      " 4   POPULAÇÃO ESTIMADA  5570 non-null   int64 \n",
      "dtypes: int64(3), object(2)\n",
      "memory usage: 217.7+ KB\n"
     ]
    }
   ],
   "source": [
    "# Tem duas coisas que olhamos, antes de mais nada:\n",
    "# 1. Quais tipos de dados eu tenho? \n",
    "df.info()"
   ]
  },
  {
   "cell_type": "code",
   "execution_count": 58,
   "id": "327f63c1",
   "metadata": {},
   "outputs": [
    {
     "data": {
      "text/html": [
       "<div>\n",
       "<style scoped>\n",
       "    .dataframe tbody tr th:only-of-type {\n",
       "        vertical-align: middle;\n",
       "    }\n",
       "\n",
       "    .dataframe tbody tr th {\n",
       "        vertical-align: top;\n",
       "    }\n",
       "\n",
       "    .dataframe thead th {\n",
       "        text-align: right;\n",
       "    }\n",
       "</style>\n",
       "<table border=\"1\" class=\"dataframe\">\n",
       "  <thead>\n",
       "    <tr style=\"text-align: right;\">\n",
       "      <th></th>\n",
       "      <th>UF</th>\n",
       "      <th>COD. UF</th>\n",
       "      <th>COD. MUNIC</th>\n",
       "      <th>NOME DO MUNICÍPIO</th>\n",
       "      <th>POPULAÇÃO ESTIMADA</th>\n",
       "    </tr>\n",
       "  </thead>\n",
       "  <tbody>\n",
       "    <tr>\n",
       "      <th>0</th>\n",
       "      <td>RO</td>\n",
       "      <td>11</td>\n",
       "      <td>15</td>\n",
       "      <td>Alta Floresta D'Oeste</td>\n",
       "      <td>22516</td>\n",
       "    </tr>\n",
       "    <tr>\n",
       "      <th>1</th>\n",
       "      <td>RO</td>\n",
       "      <td>11</td>\n",
       "      <td>23</td>\n",
       "      <td>Ariquemes</td>\n",
       "      <td>111148</td>\n",
       "    </tr>\n",
       "    <tr>\n",
       "      <th>2</th>\n",
       "      <td>RO</td>\n",
       "      <td>11</td>\n",
       "      <td>31</td>\n",
       "      <td>Cabixi</td>\n",
       "      <td>5067</td>\n",
       "    </tr>\n",
       "    <tr>\n",
       "      <th>3</th>\n",
       "      <td>RO</td>\n",
       "      <td>11</td>\n",
       "      <td>49</td>\n",
       "      <td>Cacoal</td>\n",
       "      <td>86416</td>\n",
       "    </tr>\n",
       "    <tr>\n",
       "      <th>4</th>\n",
       "      <td>RO</td>\n",
       "      <td>11</td>\n",
       "      <td>56</td>\n",
       "      <td>Cerejeiras</td>\n",
       "      <td>16088</td>\n",
       "    </tr>\n",
       "    <tr>\n",
       "      <th>5</th>\n",
       "      <td>RO</td>\n",
       "      <td>11</td>\n",
       "      <td>64</td>\n",
       "      <td>Colorado do Oeste</td>\n",
       "      <td>15213</td>\n",
       "    </tr>\n",
       "    <tr>\n",
       "      <th>6</th>\n",
       "      <td>RO</td>\n",
       "      <td>11</td>\n",
       "      <td>72</td>\n",
       "      <td>Corumbiara</td>\n",
       "      <td>7052</td>\n",
       "    </tr>\n",
       "  </tbody>\n",
       "</table>\n",
       "</div>"
      ],
      "text/plain": [
       "   UF  COD. UF  COD. MUNIC      NOME DO MUNICÍPIO  POPULAÇÃO ESTIMADA\n",
       "0  RO       11          15  Alta Floresta D'Oeste               22516\n",
       "1  RO       11          23              Ariquemes              111148\n",
       "2  RO       11          31                 Cabixi                5067\n",
       "3  RO       11          49                 Cacoal               86416\n",
       "4  RO       11          56             Cerejeiras               16088\n",
       "5  RO       11          64      Colorado do Oeste               15213\n",
       "6  RO       11          72             Corumbiara                7052"
      ]
     },
     "execution_count": 58,
     "metadata": {},
     "output_type": "execute_result"
    }
   ],
   "source": [
    "# 2. Quais são as entradas para as 7 primeiras linhas?\n",
    "df.head(7)"
   ]
  },
  {
   "cell_type": "code",
   "execution_count": 59,
   "id": "015f67d1",
   "metadata": {},
   "outputs": [
    {
     "data": {
      "text/plain": [
       "(5570, 5)"
      ]
     },
     "execution_count": 59,
     "metadata": {},
     "output_type": "execute_result"
    }
   ],
   "source": [
    "# Quantas linhas temos no nosso dataframe?\n",
    "df.shape"
   ]
  },
  {
   "cell_type": "code",
   "execution_count": 71,
   "id": "6dc3c7dc",
   "metadata": {},
   "outputs": [
    {
     "data": {
      "text/plain": [
       "pandas.core.indexes.base.Index"
      ]
     },
     "execution_count": 71,
     "metadata": {},
     "output_type": "execute_result"
    }
   ],
   "source": [
    "# Extraia o nome das colunas do dataframe como um array.\n",
    "df.columns"
   ]
  },
  {
   "cell_type": "code",
   "execution_count": 61,
   "id": "5e971efd",
   "metadata": {},
   "outputs": [
    {
     "data": {
      "text/html": [
       "<div>\n",
       "<style scoped>\n",
       "    .dataframe tbody tr th:only-of-type {\n",
       "        vertical-align: middle;\n",
       "    }\n",
       "\n",
       "    .dataframe tbody tr th {\n",
       "        vertical-align: top;\n",
       "    }\n",
       "\n",
       "    .dataframe thead th {\n",
       "        text-align: right;\n",
       "    }\n",
       "</style>\n",
       "<table border=\"1\" class=\"dataframe\">\n",
       "  <thead>\n",
       "    <tr style=\"text-align: right;\">\n",
       "      <th></th>\n",
       "      <th>UF</th>\n",
       "      <th>COD_UF</th>\n",
       "      <th>COD_MUNICIPIO</th>\n",
       "      <th>NOME_MUNICIPIO</th>\n",
       "      <th>POPULACAO_ESTIMADA</th>\n",
       "    </tr>\n",
       "  </thead>\n",
       "  <tbody>\n",
       "    <tr>\n",
       "      <th>0</th>\n",
       "      <td>RO</td>\n",
       "      <td>11</td>\n",
       "      <td>15</td>\n",
       "      <td>Alta Floresta D'Oeste</td>\n",
       "      <td>22516</td>\n",
       "    </tr>\n",
       "    <tr>\n",
       "      <th>1</th>\n",
       "      <td>RO</td>\n",
       "      <td>11</td>\n",
       "      <td>23</td>\n",
       "      <td>Ariquemes</td>\n",
       "      <td>111148</td>\n",
       "    </tr>\n",
       "    <tr>\n",
       "      <th>2</th>\n",
       "      <td>RO</td>\n",
       "      <td>11</td>\n",
       "      <td>31</td>\n",
       "      <td>Cabixi</td>\n",
       "      <td>5067</td>\n",
       "    </tr>\n",
       "    <tr>\n",
       "      <th>3</th>\n",
       "      <td>RO</td>\n",
       "      <td>11</td>\n",
       "      <td>49</td>\n",
       "      <td>Cacoal</td>\n",
       "      <td>86416</td>\n",
       "    </tr>\n",
       "    <tr>\n",
       "      <th>4</th>\n",
       "      <td>RO</td>\n",
       "      <td>11</td>\n",
       "      <td>56</td>\n",
       "      <td>Cerejeiras</td>\n",
       "      <td>16088</td>\n",
       "    </tr>\n",
       "  </tbody>\n",
       "</table>\n",
       "</div>"
      ],
      "text/plain": [
       "   UF  COD_UF  COD_MUNICIPIO         NOME_MUNICIPIO  POPULACAO_ESTIMADA\n",
       "0  RO      11             15  Alta Floresta D'Oeste               22516\n",
       "1  RO      11             23              Ariquemes              111148\n",
       "2  RO      11             31                 Cabixi                5067\n",
       "3  RO      11             49                 Cacoal               86416\n",
       "4  RO      11             56             Cerejeiras               16088"
      ]
     },
     "execution_count": 61,
     "metadata": {},
     "output_type": "execute_result"
    }
   ],
   "source": [
    "# Renomeie as colunas do dataframe de forma que nenhuma delas possua espaço\n",
    "df.columns = ['UF', 'COD_UF', 'COD_MUNICIPIO', 'NOME_MUNICIPIO','POPULACAO_ESTIMADA']\n",
    "df.head()"
   ]
  },
  {
   "cell_type": "markdown",
   "id": "4e343779",
   "metadata": {},
   "source": [
    "## Manipulando meu dataframe e infos básicas"
   ]
  },
  {
   "cell_type": "code",
   "execution_count": 62,
   "id": "7e64d14f",
   "metadata": {},
   "outputs": [
    {
     "data": {
      "text/plain": [
       "'São Sebastião do Uatumã'"
      ]
     },
     "execution_count": 62,
     "metadata": {},
     "output_type": "execute_result"
    }
   ],
   "source": [
    "# Qual é o município que aparece na centésima vigésima sétima linha?\n",
    "df.iloc[127][\"NOME_MUNICIPIO\"]"
   ]
  },
  {
   "cell_type": "code",
   "execution_count": 63,
   "id": "90f26cf5",
   "metadata": {},
   "outputs": [
    {
     "data": {
      "text/plain": [
       "MG    853\n",
       "SP    645\n",
       "RS    497\n",
       "BA    417\n",
       "PR    399\n",
       "SC    295\n",
       "GO    246\n",
       "PI    224\n",
       "PB    223\n",
       "MA    217\n",
       "PE    185\n",
       "CE    184\n",
       "RN    167\n",
       "PA    144\n",
       "MT    141\n",
       "TO    139\n",
       "AL    102\n",
       "RJ     92\n",
       "MS     79\n",
       "ES     78\n",
       "SE     75\n",
       "AM     62\n",
       "RO     52\n",
       "AC     22\n",
       "AP     16\n",
       "RR     15\n",
       "DF      1\n",
       "Name: UF, dtype: int64"
      ]
     },
     "execution_count": 63,
     "metadata": {},
     "output_type": "execute_result"
    }
   ],
   "source": [
    "# Quantos municípios em tenho para cada unidade da federação?\n",
    "df.UF.value_counts()"
   ]
  },
  {
   "cell_type": "code",
   "execution_count": 64,
   "id": "daf7ecc6",
   "metadata": {},
   "outputs": [
    {
     "data": {
      "text/plain": [
       "5244"
      ]
     },
     "execution_count": 64,
     "metadata": {},
     "output_type": "execute_result"
    }
   ],
   "source": [
    "# Quantos municípios têm menos de 100 mil habitantes?\n",
    "len(df[df.POPULACAO_ESTIMADA < 100000])"
   ]
  },
  {
   "cell_type": "code",
   "execution_count": 65,
   "id": "75b02eda",
   "metadata": {},
   "outputs": [
    {
     "data": {
      "text/html": [
       "<div>\n",
       "<style scoped>\n",
       "    .dataframe tbody tr th:only-of-type {\n",
       "        vertical-align: middle;\n",
       "    }\n",
       "\n",
       "    .dataframe tbody tr th {\n",
       "        vertical-align: top;\n",
       "    }\n",
       "\n",
       "    .dataframe thead th {\n",
       "        text-align: right;\n",
       "    }\n",
       "</style>\n",
       "<table border=\"1\" class=\"dataframe\">\n",
       "  <thead>\n",
       "    <tr style=\"text-align: right;\">\n",
       "      <th></th>\n",
       "      <th>UF</th>\n",
       "      <th>COD_UF</th>\n",
       "      <th>COD_MUNICIPIO</th>\n",
       "      <th>NOME_MUNICIPIO</th>\n",
       "      <th>POPULACAO_ESTIMADA</th>\n",
       "    </tr>\n",
       "  </thead>\n",
       "  <tbody>\n",
       "    <tr>\n",
       "      <th>3829</th>\n",
       "      <td>SP</td>\n",
       "      <td>35</td>\n",
       "      <td>50308</td>\n",
       "      <td>São Paulo</td>\n",
       "      <td>12396372</td>\n",
       "    </tr>\n",
       "    <tr>\n",
       "      <th>3242</th>\n",
       "      <td>RJ</td>\n",
       "      <td>33</td>\n",
       "      <td>4557</td>\n",
       "      <td>Rio de Janeiro</td>\n",
       "      <td>6775561</td>\n",
       "    </tr>\n",
       "    <tr>\n",
       "      <th>5569</th>\n",
       "      <td>DF</td>\n",
       "      <td>53</td>\n",
       "      <td>108</td>\n",
       "      <td>Brasília</td>\n",
       "      <td>3094325</td>\n",
       "    </tr>\n",
       "    <tr>\n",
       "      <th>2162</th>\n",
       "      <td>BA</td>\n",
       "      <td>29</td>\n",
       "      <td>27408</td>\n",
       "      <td>Salvador</td>\n",
       "      <td>2900319</td>\n",
       "    </tr>\n",
       "    <tr>\n",
       "      <th>949</th>\n",
       "      <td>CE</td>\n",
       "      <td>23</td>\n",
       "      <td>4400</td>\n",
       "      <td>Fortaleza</td>\n",
       "      <td>2703391</td>\n",
       "    </tr>\n",
       "  </tbody>\n",
       "</table>\n",
       "</div>"
      ],
      "text/plain": [
       "      UF  COD_UF  COD_MUNICIPIO  NOME_MUNICIPIO  POPULACAO_ESTIMADA\n",
       "3829  SP      35          50308       São Paulo            12396372\n",
       "3242  RJ      33           4557  Rio de Janeiro             6775561\n",
       "5569  DF      53            108        Brasília             3094325\n",
       "2162  BA      29          27408        Salvador             2900319\n",
       "949   CE      23           4400       Fortaleza             2703391"
      ]
     },
     "execution_count": 65,
     "metadata": {},
     "output_type": "execute_result"
    }
   ],
   "source": [
    "# Quais são os 5 municípios com maior número de habitantes no Brasil?\n",
    "sorted_values = df.sort_values(by='POPULACAO_ESTIMADA', ascending=False).copy()\n",
    "sorted_values.head(5)"
   ]
  },
  {
   "cell_type": "code",
   "execution_count": 66,
   "id": "33d53f7b",
   "metadata": {},
   "outputs": [
    {
     "data": {
      "text/html": [
       "<div>\n",
       "<style scoped>\n",
       "    .dataframe tbody tr th:only-of-type {\n",
       "        vertical-align: middle;\n",
       "    }\n",
       "\n",
       "    .dataframe tbody tr th {\n",
       "        vertical-align: top;\n",
       "    }\n",
       "\n",
       "    .dataframe thead th {\n",
       "        text-align: right;\n",
       "    }\n",
       "</style>\n",
       "<table border=\"1\" class=\"dataframe\">\n",
       "  <thead>\n",
       "    <tr style=\"text-align: right;\">\n",
       "      <th></th>\n",
       "      <th>UF</th>\n",
       "      <th>COD_UF</th>\n",
       "      <th>COD_MUNICIPIO</th>\n",
       "      <th>NOME_MUNICIPIO</th>\n",
       "      <th>POPULACAO_ESTIMADA</th>\n",
       "    </tr>\n",
       "  </thead>\n",
       "  <tbody>\n",
       "    <tr>\n",
       "      <th>5077</th>\n",
       "      <td>RS</td>\n",
       "      <td>43</td>\n",
       "      <td>22350</td>\n",
       "      <td>União da Serra</td>\n",
       "      <td>1084</td>\n",
       "    </tr>\n",
       "    <tr>\n",
       "      <th>4749</th>\n",
       "      <td>RS</td>\n",
       "      <td>43</td>\n",
       "      <td>6924</td>\n",
       "      <td>Engenho Velho</td>\n",
       "      <td>932</td>\n",
       "    </tr>\n",
       "    <tr>\n",
       "      <th>5192</th>\n",
       "      <td>MT</td>\n",
       "      <td>51</td>\n",
       "      <td>1209</td>\n",
       "      <td>Araguainha</td>\n",
       "      <td>909</td>\n",
       "    </tr>\n",
       "    <tr>\n",
       "      <th>3348</th>\n",
       "      <td>SP</td>\n",
       "      <td>35</td>\n",
       "      <td>7209</td>\n",
       "      <td>Borá</td>\n",
       "      <td>839</td>\n",
       "    </tr>\n",
       "    <tr>\n",
       "      <th>3026</th>\n",
       "      <td>MG</td>\n",
       "      <td>31</td>\n",
       "      <td>66600</td>\n",
       "      <td>Serra da Saudade</td>\n",
       "      <td>771</td>\n",
       "    </tr>\n",
       "  </tbody>\n",
       "</table>\n",
       "</div>"
      ],
      "text/plain": [
       "      UF  COD_UF  COD_MUNICIPIO    NOME_MUNICIPIO  POPULACAO_ESTIMADA\n",
       "5077  RS      43          22350    União da Serra                1084\n",
       "4749  RS      43           6924     Engenho Velho                 932\n",
       "5192  MT      51           1209        Araguainha                 909\n",
       "3348  SP      35           7209              Borá                 839\n",
       "3026  MG      31          66600  Serra da Saudade                 771"
      ]
     },
     "execution_count": 66,
     "metadata": {},
     "output_type": "execute_result"
    }
   ],
   "source": [
    "# Quais são os 5 municípios com menor número de habitantes no Brasil?\n",
    "sorted_values.tail(5)"
   ]
  },
  {
   "cell_type": "code",
   "execution_count": 69,
   "id": "817e1abe",
   "metadata": {},
   "outputs": [
    {
     "data": {
      "text/html": [
       "<div>\n",
       "<style scoped>\n",
       "    .dataframe tbody tr th:only-of-type {\n",
       "        vertical-align: middle;\n",
       "    }\n",
       "\n",
       "    .dataframe tbody tr th {\n",
       "        vertical-align: top;\n",
       "    }\n",
       "\n",
       "    .dataframe thead th {\n",
       "        text-align: right;\n",
       "    }\n",
       "</style>\n",
       "<table border=\"1\" class=\"dataframe\">\n",
       "  <thead>\n",
       "    <tr style=\"text-align: right;\">\n",
       "      <th></th>\n",
       "      <th>UF</th>\n",
       "      <th>COD_UF</th>\n",
       "      <th>COD_MUNICIPIO</th>\n",
       "      <th>NOME_MUNICIPIO</th>\n",
       "      <th>POPULACAO_ESTIMADA</th>\n",
       "    </tr>\n",
       "  </thead>\n",
       "  <tbody>\n",
       "    <tr>\n",
       "      <th>3829</th>\n",
       "      <td>SP</td>\n",
       "      <td>35</td>\n",
       "      <td>50308</td>\n",
       "      <td>São Paulo</td>\n",
       "      <td>12396372</td>\n",
       "    </tr>\n",
       "    <tr>\n",
       "      <th>3242</th>\n",
       "      <td>RJ</td>\n",
       "      <td>33</td>\n",
       "      <td>4557</td>\n",
       "      <td>Rio de Janeiro</td>\n",
       "      <td>6775561</td>\n",
       "    </tr>\n",
       "    <tr>\n",
       "      <th>5569</th>\n",
       "      <td>DF</td>\n",
       "      <td>53</td>\n",
       "      <td>108</td>\n",
       "      <td>Brasília</td>\n",
       "      <td>3094325</td>\n",
       "    </tr>\n",
       "    <tr>\n",
       "      <th>2162</th>\n",
       "      <td>BA</td>\n",
       "      <td>29</td>\n",
       "      <td>27408</td>\n",
       "      <td>Salvador</td>\n",
       "      <td>2900319</td>\n",
       "    </tr>\n",
       "    <tr>\n",
       "      <th>949</th>\n",
       "      <td>CE</td>\n",
       "      <td>23</td>\n",
       "      <td>4400</td>\n",
       "      <td>Fortaleza</td>\n",
       "      <td>2703391</td>\n",
       "    </tr>\n",
       "  </tbody>\n",
       "</table>\n",
       "</div>"
      ],
      "text/plain": [
       "      UF  COD_UF  COD_MUNICIPIO  NOME_MUNICIPIO  POPULACAO_ESTIMADA\n",
       "3829  SP      35          50308       São Paulo            12396372\n",
       "3242  RJ      33           4557  Rio de Janeiro             6775561\n",
       "5569  DF      53            108        Brasília             3094325\n",
       "2162  BA      29          27408        Salvador             2900319\n",
       "949   CE      23           4400       Fortaleza             2703391"
      ]
     },
     "execution_count": 69,
     "metadata": {},
     "output_type": "execute_result"
    }
   ],
   "source": [
    "# Teste fazer as duas questões acima usando nlargest e nsmallest. \n",
    "# Se você fez as acima usando nlargest e nsmallets, então tente refazer com sort_values.\n",
    "df.nlargest(5, 'POPULACAO_ESTIMADA')\n"
   ]
  },
  {
   "cell_type": "code",
   "execution_count": 70,
   "id": "40500c06",
   "metadata": {},
   "outputs": [
    {
     "data": {
      "text/html": [
       "<div>\n",
       "<style scoped>\n",
       "    .dataframe tbody tr th:only-of-type {\n",
       "        vertical-align: middle;\n",
       "    }\n",
       "\n",
       "    .dataframe tbody tr th {\n",
       "        vertical-align: top;\n",
       "    }\n",
       "\n",
       "    .dataframe thead th {\n",
       "        text-align: right;\n",
       "    }\n",
       "</style>\n",
       "<table border=\"1\" class=\"dataframe\">\n",
       "  <thead>\n",
       "    <tr style=\"text-align: right;\">\n",
       "      <th></th>\n",
       "      <th>UF</th>\n",
       "      <th>COD_UF</th>\n",
       "      <th>COD_MUNICIPIO</th>\n",
       "      <th>NOME_MUNICIPIO</th>\n",
       "      <th>POPULACAO_ESTIMADA</th>\n",
       "    </tr>\n",
       "  </thead>\n",
       "  <tbody>\n",
       "    <tr>\n",
       "      <th>3026</th>\n",
       "      <td>MG</td>\n",
       "      <td>31</td>\n",
       "      <td>66600</td>\n",
       "      <td>Serra da Saudade</td>\n",
       "      <td>771</td>\n",
       "    </tr>\n",
       "    <tr>\n",
       "      <th>3348</th>\n",
       "      <td>SP</td>\n",
       "      <td>35</td>\n",
       "      <td>7209</td>\n",
       "      <td>Borá</td>\n",
       "      <td>839</td>\n",
       "    </tr>\n",
       "    <tr>\n",
       "      <th>5192</th>\n",
       "      <td>MT</td>\n",
       "      <td>51</td>\n",
       "      <td>1209</td>\n",
       "      <td>Araguainha</td>\n",
       "      <td>909</td>\n",
       "    </tr>\n",
       "    <tr>\n",
       "      <th>4749</th>\n",
       "      <td>RS</td>\n",
       "      <td>43</td>\n",
       "      <td>6924</td>\n",
       "      <td>Engenho Velho</td>\n",
       "      <td>932</td>\n",
       "    </tr>\n",
       "    <tr>\n",
       "      <th>5077</th>\n",
       "      <td>RS</td>\n",
       "      <td>43</td>\n",
       "      <td>22350</td>\n",
       "      <td>União da Serra</td>\n",
       "      <td>1084</td>\n",
       "    </tr>\n",
       "  </tbody>\n",
       "</table>\n",
       "</div>"
      ],
      "text/plain": [
       "      UF  COD_UF  COD_MUNICIPIO    NOME_MUNICIPIO  POPULACAO_ESTIMADA\n",
       "3026  MG      31          66600  Serra da Saudade                 771\n",
       "3348  SP      35           7209              Borá                 839\n",
       "5192  MT      51           1209        Araguainha                 909\n",
       "4749  RS      43           6924     Engenho Velho                 932\n",
       "5077  RS      43          22350    União da Serra                1084"
      ]
     },
     "execution_count": 70,
     "metadata": {},
     "output_type": "execute_result"
    }
   ],
   "source": [
    "# Menos usando o nsmallest\n",
    "df.nsmallest(5, 'POPULACAO_ESTIMADA')"
   ]
  },
  {
   "cell_type": "code",
   "execution_count": 68,
   "id": "c6cd93fd",
   "metadata": {},
   "outputs": [
    {
     "data": {
      "text/plain": [
       "array(['RO', 'AC', 'AM', 'RR', 'PA', 'AP', 'TO', 'MA', 'PI', 'CE', 'RN',\n",
       "       'PB', 'PE', 'AL', 'SE', 'BA', 'MG', 'ES', 'RJ', 'SP', 'PR', 'SC',\n",
       "       'RS', 'MS', 'MT', 'GO', 'DF'], dtype=object)"
      ]
     },
     "execution_count": 68,
     "metadata": {},
     "output_type": "execute_result"
    }
   ],
   "source": [
    "# Quais são os códigos únicos de UF que temos?\n",
    "df[\"UF\"].unique()"
   ]
  }
 ],
 "metadata": {
  "interpreter": {
   "hash": "a7f1401f5b724d56b656f679c2b3c40d4b37fd37e38d4f9cd8c891fdc9d0474f"
  },
  "kernelspec": {
   "display_name": "Python [conda env:data_science]",
   "language": "python",
   "name": "python3"
  },
  "language_info": {
   "codemirror_mode": {
    "name": "ipython",
    "version": 3
   },
   "file_extension": ".py",
   "mimetype": "text/x-python",
   "name": "python",
   "nbconvert_exporter": "python",
   "pygments_lexer": "ipython3",
   "version": "3.8.12"
  }
 },
 "nbformat": 4,
 "nbformat_minor": 5
}
