{
 "cells": [
  {
   "cell_type": "markdown",
   "id": "66cf447e",
   "metadata": {},
   "source": [
    "fonte dos dados: https://jmcauley.ucsd.edu/data/amazon/\n",
    "\n",
    "Perguntas:\n",
    "- Quais são os cinco produtos com maior quantidade de reviews?\n",
    "- Quais são os cinco produtos com maior rating médio?\n",
    "- Assuma que qualquer review com rating maior que 3 é positivo. (3.5, 4, 4.5, 5.0). Qual percentual de reviews positivos para os cinco produtos com maior quantidade de reviews?\n",
    "- De acordo com a pergunta acima, qual percentual de reviews positivos para os cinco protudos com maior rating médio?\n",
    "- Quanto menos reviews, mais fácil ter um percentual maior de reviews positivos. Para comparar melhor os melhores produtos, vamos usar uma regra: qual seria o percentual de reviews positivos de todos os produtos, se eu adicionasse 1 review positivo e 1 review negativo? (fonte: https://www.youtube.com/watch?v=8idr1WZ1A7Q)\n",
    "\n",
    "Explicando melhor a última pergunta:\n",
    "\n",
    "Imagina que um produto tenha 50 reviews, 37 positivos. Então, vamos adicionar 1 positivo e 1 negativo, ficamos com 38 positivos e 24 negativos. Assim, o percentual de positivos é 38/52 = 73%.\n",
    "\n",
    "- Qual o preço médio de todos os produtos?\n",
    "- Qual o preço médio de produtos da Philips, da 3M e da Duracell?\n",
    "- Para cada produto da Philips, da 3M e da Duracell, calcule o percentual de reviews positivos (sem usar o conceito acima). Qual o percentual de positivos médio para cada uma dessas marcas? "
   ]
  }
 ],
 "metadata": {
  "kernelspec": {
   "display_name": "Python (DataScience)",
   "language": "python",
   "name": "data_science"
  },
  "language_info": {
   "codemirror_mode": {
    "name": "ipython",
    "version": 3
   },
   "file_extension": ".py",
   "mimetype": "text/x-python",
   "name": "python",
   "nbconvert_exporter": "python",
   "pygments_lexer": "ipython3",
   "version": "3.7.2"
  }
 },
 "nbformat": 4,
 "nbformat_minor": 5
}
