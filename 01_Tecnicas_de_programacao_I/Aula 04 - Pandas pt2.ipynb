{
 "cells": [
  {
   "cell_type": "markdown",
   "id": "4f51956c",
   "metadata": {},
   "source": [
    "# Aula 4.1 - Introdução a Pandas, pt2\n",
    "\n",
    "Já discutimos de forma mais básica quais são as estruturas de dados principais do Pandas: DataFrames e Series. Além disso, vimos também como ler um arquivo csv, ou como criar um dataframe a partir de dados no próprio Python.\n",
    "\n",
    "Hoje, vamos aprender a explorar nossas tabelas em pandas. Como ver quantas entradas eu tenho? Quais os tipos de entradas? Como eu deixo meus dados em um formato melhor para minhas análises?"
   ]
  },
  {
   "cell_type": "markdown",
   "id": "7db9134f",
   "metadata": {},
   "source": [
    "---"
   ]
  },
  {
   "cell_type": "markdown",
   "id": "6abe4b06",
   "metadata": {},
   "source": [
    "Vamos usar os dados da última aula, e tentar aproveitar o Pandas para extrair algumas informações. Enquanto mostramos as funcionalidades por aqui, vamos tentar ir reproduzindo o passo a passo com dados do IBGE!\n",
    "\n",
    "O objetivo dessa primeira parte é aprendermos algumas funcionalidades básicas para começarmos a olhar os nossos dados. É sempre importante sabermos qual tipo de dados nós temos, qual a cara deles, se tem algum erro, quantas linhas temos, etc...\n",
    "\n",
    "Isso nos ajuda muito a nos preparar para de fato começar a fazer análises de dados."
   ]
  },
  {
   "cell_type": "markdown",
   "id": "44612acf",
   "metadata": {},
   "source": [
    "## Lendo o arquivo"
   ]
  },
  {
   "cell_type": "code",
   "execution_count": null,
   "id": "f7370101",
   "metadata": {},
   "outputs": [],
   "source": [
    "# Começamos sempre importando nossas bibliotecas.\n",
    "import numpy as np\n",
    "import pandas as pd"
   ]
  },
  {
   "cell_type": "code",
   "execution_count": null,
   "id": "12a97506",
   "metadata": {},
   "outputs": [],
   "source": [
    "# A função \"read_table\" é equivalente à \"read_csv\", só muda que ela é mais geral.\n",
    "# Tente ler abaixo os dados de população para um dataframe, usando pd.read_table\n",
    "df = pd.read_table('dados/dados_parciais.txt',\n",
    "                   sep=';', decimal=',')"
   ]
  },
  {
   "cell_type": "code",
   "execution_count": null,
   "id": "b9adbc0d",
   "metadata": {
    "scrolled": true
   },
   "outputs": [],
   "source": [
    "# Antes de começarmos a processar nossos dados, queremos entender algumas coisas básicas sobre eles.\n",
    "df.info()"
   ]
  },
  {
   "cell_type": "code",
   "execution_count": null,
   "id": "54d4948e",
   "metadata": {
    "scrolled": true
   },
   "outputs": [],
   "source": [
    "df.head(10)"
   ]
  },
  {
   "cell_type": "code",
   "execution_count": null,
   "id": "d57b090a",
   "metadata": {},
   "outputs": [],
   "source": [
    "df.shape"
   ]
  },
  {
   "cell_type": "code",
   "execution_count": null,
   "id": "4aa0e010",
   "metadata": {},
   "outputs": [],
   "source": [
    "df.count()"
   ]
  },
  {
   "cell_type": "code",
   "execution_count": null,
   "id": "8c2d0d52",
   "metadata": {},
   "outputs": [],
   "source": [
    "df.columns"
   ]
  },
  {
   "cell_type": "code",
   "execution_count": null,
   "id": "6516f87c",
   "metadata": {},
   "outputs": [],
   "source": [
    "df.columns = ['regiao', 'estado', 'area', 'pop_urb', 'pop_rur', 'total']"
   ]
  },
  {
   "cell_type": "code",
   "execution_count": null,
   "id": "ce7fb2b7",
   "metadata": {},
   "outputs": [],
   "source": [
    "df.head(10)"
   ]
  },
  {
   "cell_type": "code",
   "execution_count": null,
   "id": "347d6d06",
   "metadata": {},
   "outputs": [],
   "source": [
    "# e se eu só quisesse renomear 1 coluna?\n",
    "df = df.rename(columns = {'regiao':'reg'}).copy()"
   ]
  },
  {
   "cell_type": "code",
   "execution_count": null,
   "id": "d6ff4a03",
   "metadata": {},
   "outputs": [],
   "source": [
    "# Esse .copy é chato. Dá pra fazer direto, alterar o dataframe nele próprio?\n",
    "# Consigo, embora não seja bom ficar fazendo isso o tempo todo.\n",
    "df.rename(columns = {'estado':'uf'}, inplace=True)"
   ]
  },
  {
   "cell_type": "code",
   "execution_count": null,
   "id": "6785f8ed",
   "metadata": {},
   "outputs": [],
   "source": [
    "# Também podemos jogar colunas fora.\n",
    "df.drop(columns=['total'], inplace=True)"
   ]
  },
  {
   "cell_type": "markdown",
   "id": "2b596ee0",
   "metadata": {},
   "source": [
    "## Manipulando meu dataframe"
   ]
  },
  {
   "cell_type": "code",
   "execution_count": null,
   "id": "5a745483",
   "metadata": {},
   "outputs": [],
   "source": [
    "# Meu dataframe consiste em:\n",
    "# Um índice\n",
    "# Colunas (que são series)\n",
    "\n",
    "# Para pegar o meu índice.\n",
    "df.index"
   ]
  },
  {
   "cell_type": "code",
   "execution_count": null,
   "id": "4c1af198",
   "metadata": {},
   "outputs": [],
   "source": [
    "# A primeira coisa que queremos aprender é como acessar os elementos do meu dataframe.\n",
    "# Existem diversas formas de fazer isso.\n",
    "\n",
    "# Vamos tentar acessar elementos da quinta linha do meu dataframe.\n",
    "quinta_linha = df.iloc[5]"
   ]
  },
  {
   "cell_type": "code",
   "execution_count": null,
   "id": "c444478c",
   "metadata": {},
   "outputs": [],
   "source": [
    "quinta_linha"
   ]
  },
  {
   "cell_type": "code",
   "execution_count": null,
   "id": "8e6711fa",
   "metadata": {},
   "outputs": [],
   "source": [
    "# Essa quinta linha vai ser um Pandas Series!\n",
    "print(type(quinta_linha))"
   ]
  },
  {
   "cell_type": "code",
   "execution_count": null,
   "id": "b5c6fa60",
   "metadata": {},
   "outputs": [],
   "source": [
    "# Podemos então pegar um elemento da quinta linha pela posição, ou pelo nome do index.\n",
    "quinta_linha.iloc[1]"
   ]
  },
  {
   "cell_type": "code",
   "execution_count": null,
   "id": "3db92391",
   "metadata": {},
   "outputs": [],
   "source": [
    "quinta_linha.loc['uf']"
   ]
  },
  {
   "cell_type": "code",
   "execution_count": null,
   "id": "6a9ecbd8",
   "metadata": {},
   "outputs": [],
   "source": [
    "quinta_linha['uf']"
   ]
  },
  {
   "cell_type": "code",
   "execution_count": null,
   "id": "76a218d0",
   "metadata": {},
   "outputs": [],
   "source": [
    "# O mesmo pode ser feito diretamente com o DataFrame\n",
    "df.loc[5, 'uf']"
   ]
  },
  {
   "cell_type": "code",
   "execution_count": null,
   "id": "61c1618d",
   "metadata": {},
   "outputs": [],
   "source": [
    "df.iloc[5, 1]"
   ]
  },
  {
   "cell_type": "code",
   "execution_count": null,
   "id": "def08653",
   "metadata": {},
   "outputs": [],
   "source": [
    "df.iat[5, 1]"
   ]
  },
  {
   "cell_type": "code",
   "execution_count": null,
   "id": "63fcc5f4",
   "metadata": {},
   "outputs": [],
   "source": [
    "df.at[5, 'uf']"
   ]
  },
  {
   "cell_type": "code",
   "execution_count": null,
   "id": "a173bc3c",
   "metadata": {},
   "outputs": [],
   "source": [
    "# Também podemos pegar subconjuntos de linhas através de slicing\n",
    "df.loc[:5, 'uf']"
   ]
  },
  {
   "cell_type": "code",
   "execution_count": null,
   "id": "e96e78ce",
   "metadata": {},
   "outputs": [],
   "source": [
    "# Ou através de uma máscara booleana\n",
    "df.loc[df['regiao']=='Centro-Oeste']"
   ]
  },
  {
   "cell_type": "code",
   "execution_count": null,
   "id": "b93a0bbd",
   "metadata": {},
   "outputs": [],
   "source": [
    "# Pode ser também que queiramos trabalhar com colunas.\n",
    "regioes = df['regiao']"
   ]
  },
  {
   "cell_type": "code",
   "execution_count": null,
   "id": "a0d42134",
   "metadata": {},
   "outputs": [],
   "source": [
    "print(type(regioes))"
   ]
  },
  {
   "cell_type": "code",
   "execution_count": null,
   "id": "25984358",
   "metadata": {},
   "outputs": [],
   "source": [
    "# Se o nome da coluna não tiver espaço, também podemos pegar os seus valores usando ponto.\n",
    "df.regiao"
   ]
  },
  {
   "cell_type": "code",
   "execution_count": null,
   "id": "4ca6bcc7",
   "metadata": {},
   "outputs": [],
   "source": [
    "# Ok, até agora, que diferença fez eu ter Pandas Series?\n",
    "df.regiao.value_counts() # Eu posso pegar quantos estados tenho em cada região."
   ]
  },
  {
   "cell_type": "code",
   "execution_count": null,
   "id": "bccc539d",
   "metadata": {},
   "outputs": [],
   "source": [
    "# Quantos estados têm população acima de 1 milhão de habitantes?\n",
    "series = df.total > 1000000"
   ]
  },
  {
   "cell_type": "code",
   "execution_count": null,
   "id": "5e7a4987",
   "metadata": {},
   "outputs": [],
   "source": [
    "series.head(10)"
   ]
  },
  {
   "cell_type": "code",
   "execution_count": null,
   "id": "10abe048",
   "metadata": {
    "scrolled": true
   },
   "outputs": [],
   "source": [
    "series.value_counts()"
   ]
  },
  {
   "cell_type": "code",
   "execution_count": null,
   "id": "4ef1d99f",
   "metadata": {},
   "outputs": [],
   "source": [
    "# Também podemos tentar ver quais são os elementos únicos de uma pandas series.\n",
    "regioes = df.regiao"
   ]
  },
  {
   "cell_type": "code",
   "execution_count": null,
   "id": "d02d209c",
   "metadata": {},
   "outputs": [],
   "source": [
    "regioes.unique()"
   ]
  },
  {
   "cell_type": "code",
   "execution_count": null,
   "id": "153229b6",
   "metadata": {},
   "outputs": [],
   "source": [
    "regioes.nunique()"
   ]
  },
  {
   "cell_type": "markdown",
   "id": "ec7f6d3e",
   "metadata": {},
   "source": [
    "Podemos também fazer alterações no dataframe, de forma que nos ajude a ter mais informações."
   ]
  },
  {
   "cell_type": "code",
   "execution_count": null,
   "id": "5b1f780a",
   "metadata": {},
   "outputs": [],
   "source": [
    "# Eu posso reorganizar o meu dataframe de acordo com qualquer coluna.\n",
    "sorted_values = df.sort_values(by='total', ascending=False).copy()"
   ]
  },
  {
   "cell_type": "code",
   "execution_count": null,
   "id": "48e4681c",
   "metadata": {},
   "outputs": [],
   "source": [
    "sorted_values.head(10)"
   ]
  },
  {
   "cell_type": "code",
   "execution_count": null,
   "id": "ffc37bea",
   "metadata": {},
   "outputs": [],
   "source": [
    "# Quais estados com menos habitantes?\n",
    "sorted_values.tail(10)"
   ]
  }
 ],
 "metadata": {
  "kernelspec": {
   "display_name": "Python [conda env:data_science]",
   "language": "python",
   "name": "conda-env-data_science-py"
  },
  "language_info": {
   "codemirror_mode": {
    "name": "ipython",
    "version": 3
   },
   "file_extension": ".py",
   "mimetype": "text/x-python",
   "name": "python",
   "nbconvert_exporter": "python",
   "pygments_lexer": "ipython3",
   "version": "3.7.2"
  }
 },
 "nbformat": 4,
 "nbformat_minor": 5
}
