{
  "cells": [
    {
      "cell_type": "markdown",
      "id": "4e8c507b",
      "metadata": {
        "id": "4e8c507b"
      },
      "source": [
        "Perguntas:\n",
        "- Quantos gêneros o filme \"The Matrix\" tem? Quais são os gêneros?\n",
        "- Quantos gêneros cada filme tem, em média?\n",
        "- Quais são os cinco filmes com maior número de gêneros?\n",
        "- Quantos usuários deram nota para o filme \"The Matrix\"?\n",
        "- Quantos usuários, em média, deram nota para cada filme?\n",
        "- Quais são os cinco filmes para os quais mais usuários deram nota?\n",
        "- Qual o rating médio do filme \"The Matrix\"?\n",
        "- Cada filme tem um rating médio. Qual a média desses ratings, por gênero?\n",
        "- Para cada gênero de filme, quantos usuários deram cada nota possível?"
      ]
    },
    {
      "cell_type": "markdown",
      "id": "08f1dd1e",
      "metadata": {
        "id": "08f1dd1e"
      },
      "source": [
        "Dicas:\n",
        "1. Só é necessário as tabelas movies e ratings para este projeto.\n",
        "2. Pesquise a função \"explode\" no pandas. Ela pode ser útil."
      ]
    },
    {
      "cell_type": "markdown",
      "id": "iECpJF3I0nch",
      "metadata": {
        "id": "iECpJF3I0nch"
      },
      "source": [
        "# Importando pacotes e dados"
      ]
    },
    {
      "cell_type": "code",
      "execution_count": 8,
      "id": "B0lYt4Eay31T",
      "metadata": {
        "id": "B0lYt4Eay31T"
      },
      "outputs": [],
      "source": [
        "import pandas as pd\n",
        "import numpy as np\n",
        "import re"
      ]
    },
    {
      "cell_type": "code",
      "execution_count": 9,
      "id": "DiIA8e4m6jca",
      "metadata": {
        "colab": {
          "base_uri": "https://localhost:8080/",
          "height": 426
        },
        "id": "DiIA8e4m6jca",
        "outputId": "1b19269a-7c8a-4e5c-ad83-581edcd407c6"
      },
      "outputs": [
        {
          "data": {
            "text/html": [
              "<div>\n",
              "<style scoped>\n",
              "    .dataframe tbody tr th:only-of-type {\n",
              "        vertical-align: middle;\n",
              "    }\n",
              "\n",
              "    .dataframe tbody tr th {\n",
              "        vertical-align: top;\n",
              "    }\n",
              "\n",
              "    .dataframe thead th {\n",
              "        text-align: right;\n",
              "    }\n",
              "</style>\n",
              "<table border=\"1\" class=\"dataframe\">\n",
              "  <thead>\n",
              "    <tr style=\"text-align: right;\">\n",
              "      <th></th>\n",
              "      <th>movieId</th>\n",
              "      <th>title</th>\n",
              "      <th>genres</th>\n",
              "      <th>year</th>\n",
              "      <th>name</th>\n",
              "      <th>genres_0</th>\n",
              "      <th>genres_1</th>\n",
              "      <th>genres_2</th>\n",
              "      <th>genres_3</th>\n",
              "      <th>genres_4</th>\n",
              "      <th>genres_5</th>\n",
              "      <th>genres_6</th>\n",
              "      <th>genres_7</th>\n",
              "      <th>genres_8</th>\n",
              "      <th>genres_9</th>\n",
              "      <th>qtd_genres</th>\n",
              "      <th>qtd_notas</th>\n",
              "      <th>rating</th>\n",
              "    </tr>\n",
              "  </thead>\n",
              "  <tbody>\n",
              "    <tr>\n",
              "      <th>0</th>\n",
              "      <td>1</td>\n",
              "      <td>Toy Story (1995)</td>\n",
              "      <td>Adventure|Animation|Children|Comedy|Fantasy</td>\n",
              "      <td>1995</td>\n",
              "      <td>Toy Story</td>\n",
              "      <td>Adventure</td>\n",
              "      <td>Animation</td>\n",
              "      <td>Children</td>\n",
              "      <td>Comedy</td>\n",
              "      <td>Fantasy</td>\n",
              "      <td>NaN</td>\n",
              "      <td>NaN</td>\n",
              "      <td>NaN</td>\n",
              "      <td>NaN</td>\n",
              "      <td>NaN</td>\n",
              "      <td>5</td>\n",
              "      <td>215</td>\n",
              "      <td>3.920930</td>\n",
              "    </tr>\n",
              "    <tr>\n",
              "      <th>1</th>\n",
              "      <td>2</td>\n",
              "      <td>Jumanji (1995)</td>\n",
              "      <td>Adventure|Children|Fantasy</td>\n",
              "      <td>1995</td>\n",
              "      <td>Jumanji</td>\n",
              "      <td>Adventure</td>\n",
              "      <td>Children</td>\n",
              "      <td>Fantasy</td>\n",
              "      <td>NaN</td>\n",
              "      <td>NaN</td>\n",
              "      <td>NaN</td>\n",
              "      <td>NaN</td>\n",
              "      <td>NaN</td>\n",
              "      <td>NaN</td>\n",
              "      <td>NaN</td>\n",
              "      <td>3</td>\n",
              "      <td>110</td>\n",
              "      <td>3.431818</td>\n",
              "    </tr>\n",
              "    <tr>\n",
              "      <th>2</th>\n",
              "      <td>3</td>\n",
              "      <td>Grumpier Old Men (1995)</td>\n",
              "      <td>Comedy|Romance</td>\n",
              "      <td>1995</td>\n",
              "      <td>Grumpier Old Men</td>\n",
              "      <td>Comedy</td>\n",
              "      <td>Romance</td>\n",
              "      <td>NaN</td>\n",
              "      <td>NaN</td>\n",
              "      <td>NaN</td>\n",
              "      <td>NaN</td>\n",
              "      <td>NaN</td>\n",
              "      <td>NaN</td>\n",
              "      <td>NaN</td>\n",
              "      <td>NaN</td>\n",
              "      <td>2</td>\n",
              "      <td>52</td>\n",
              "      <td>3.259615</td>\n",
              "    </tr>\n",
              "    <tr>\n",
              "      <th>3</th>\n",
              "      <td>4</td>\n",
              "      <td>Waiting to Exhale (1995)</td>\n",
              "      <td>Comedy|Drama|Romance</td>\n",
              "      <td>1995</td>\n",
              "      <td>Waiting to Exhale</td>\n",
              "      <td>Comedy</td>\n",
              "      <td>Drama</td>\n",
              "      <td>Romance</td>\n",
              "      <td>NaN</td>\n",
              "      <td>NaN</td>\n",
              "      <td>NaN</td>\n",
              "      <td>NaN</td>\n",
              "      <td>NaN</td>\n",
              "      <td>NaN</td>\n",
              "      <td>NaN</td>\n",
              "      <td>3</td>\n",
              "      <td>7</td>\n",
              "      <td>2.357143</td>\n",
              "    </tr>\n",
              "    <tr>\n",
              "      <th>4</th>\n",
              "      <td>5</td>\n",
              "      <td>Father of the Bride Part II (1995)</td>\n",
              "      <td>Comedy</td>\n",
              "      <td>1995</td>\n",
              "      <td>Father of the Bride Part II</td>\n",
              "      <td>Comedy</td>\n",
              "      <td>NaN</td>\n",
              "      <td>NaN</td>\n",
              "      <td>NaN</td>\n",
              "      <td>NaN</td>\n",
              "      <td>NaN</td>\n",
              "      <td>NaN</td>\n",
              "      <td>NaN</td>\n",
              "      <td>NaN</td>\n",
              "      <td>NaN</td>\n",
              "      <td>1</td>\n",
              "      <td>49</td>\n",
              "      <td>3.071429</td>\n",
              "    </tr>\n",
              "  </tbody>\n",
              "</table>\n",
              "</div>"
            ],
            "text/plain": [
              "   movieId                               title  \\\n",
              "0        1                    Toy Story (1995)   \n",
              "1        2                      Jumanji (1995)   \n",
              "2        3             Grumpier Old Men (1995)   \n",
              "3        4            Waiting to Exhale (1995)   \n",
              "4        5  Father of the Bride Part II (1995)   \n",
              "\n",
              "                                        genres  year  \\\n",
              "0  Adventure|Animation|Children|Comedy|Fantasy  1995   \n",
              "1                   Adventure|Children|Fantasy  1995   \n",
              "2                               Comedy|Romance  1995   \n",
              "3                         Comedy|Drama|Romance  1995   \n",
              "4                                       Comedy  1995   \n",
              "\n",
              "                          name   genres_0   genres_1  genres_2 genres_3  \\\n",
              "0                    Toy Story  Adventure  Animation  Children   Comedy   \n",
              "1                      Jumanji  Adventure   Children   Fantasy      NaN   \n",
              "2             Grumpier Old Men     Comedy    Romance       NaN      NaN   \n",
              "3            Waiting to Exhale     Comedy      Drama   Romance      NaN   \n",
              "4  Father of the Bride Part II     Comedy        NaN       NaN      NaN   \n",
              "\n",
              "  genres_4 genres_5 genres_6 genres_7 genres_8 genres_9  qtd_genres  \\\n",
              "0  Fantasy      NaN      NaN      NaN      NaN      NaN           5   \n",
              "1      NaN      NaN      NaN      NaN      NaN      NaN           3   \n",
              "2      NaN      NaN      NaN      NaN      NaN      NaN           2   \n",
              "3      NaN      NaN      NaN      NaN      NaN      NaN           3   \n",
              "4      NaN      NaN      NaN      NaN      NaN      NaN           1   \n",
              "\n",
              "   qtd_notas    rating  \n",
              "0        215  3.920930  \n",
              "1        110  3.431818  \n",
              "2         52  3.259615  \n",
              "3          7  2.357143  \n",
              "4         49  3.071429  "
            ]
          },
          "execution_count": 9,
          "metadata": {},
          "output_type": "execute_result"
        }
      ],
      "source": [
        "# Importando o arquivo RATINGS.csv\n",
        "df_ratings = pd.read_csv('Dados/ratings.csv', sep=',')\n",
        "\n",
        "# Convertendo Unix seconds timestamp para data e hora\n",
        "df_ratings[\"date_timestamp\"] = pd.to_datetime(df_ratings[\"timestamp\"], unit='s')\n",
        "\n",
        "\n",
        "\n",
        "# Importando o arquivo MOVIES.csv\n",
        "df_movies = pd.read_csv('Dados/movies.csv', sep=',')\n",
        "\n",
        "# Criando coluna apenas com o ano de lançamento do filme\n",
        "df_movies[\"year\"] = df_movies[\"title\"].apply(lambda st: st[st.rfind(\"(\")+1:st.rfind(\")\")])\n",
        "df_movies[\"year\"] = df_movies[\"year\"].apply(lambda x: x if len(x) == 4 else 0)\n",
        "df_movies[\"year\"] = df_movies[\"year\"].astype(\"int64\")\n",
        "\n",
        "# Criando coluna com apenas o nome do filme (tirando o ano)\n",
        "df_movies[\"name\"] = df_movies[\"title\"].apply(lambda st: st[0:st.find(\"(\")-1])\n",
        "\n",
        "# Separando a coluna genres em varias colunas pelo separadador \"|\"\n",
        "df_movies = df_movies.join(df_movies['genres'].str.split('|', expand=True).add_prefix('genres_').fillna(np.nan))\n",
        "\n",
        "# Conta a quantidade de generos o fime possui\n",
        "df_movies[\"qtd_genres\"] = df_movies[\"genres\"].apply(lambda st: len(re.findall(\"\\|\", st))+1)\n",
        "\n",
        "# Cria coluna com a qtd de notas que cada filme recebeu\n",
        "qtd_notas_por_filme = df_ratings.groupby(by = [\"movieId\"])[\"userId\"].count().reset_index().rename(columns = {'userId':'qtd_notas'})\n",
        "df_movies = pd.merge(df_movies, qtd_notas_por_filme, on = [\"movieId\"])\n",
        "\n",
        "# Cria média de ratings por filme\n",
        "mean_ratings = df_ratings.groupby(by=[\"movieId\"])[\"rating\"].mean()\n",
        "df_movies = pd.merge(df_movies, mean_ratings, on = [\"movieId\"])\n",
        "\n",
        "# Mostrando as primeiras 5 linhas da tabela\n",
        "df_movies.head()"
      ]
    },
    {
      "cell_type": "markdown",
      "id": "ZlMp1lKO05gu",
      "metadata": {
        "id": "ZlMp1lKO05gu"
      },
      "source": [
        "## Explorando os dados: MOVIES"
      ]
    },
    {
      "cell_type": "code",
      "execution_count": 10,
      "id": "fYPMy-I0B2IQ",
      "metadata": {
        "colab": {
          "base_uri": "https://localhost:8080/",
          "height": 426
        },
        "id": "fYPMy-I0B2IQ",
        "outputId": "c34319af-7f3a-400c-820e-31b51f21f63f"
      },
      "outputs": [
        {
          "data": {
            "text/html": [
              "<div>\n",
              "<style scoped>\n",
              "    .dataframe tbody tr th:only-of-type {\n",
              "        vertical-align: middle;\n",
              "    }\n",
              "\n",
              "    .dataframe tbody tr th {\n",
              "        vertical-align: top;\n",
              "    }\n",
              "\n",
              "    .dataframe thead th {\n",
              "        text-align: right;\n",
              "    }\n",
              "</style>\n",
              "<table border=\"1\" class=\"dataframe\">\n",
              "  <thead>\n",
              "    <tr style=\"text-align: right;\">\n",
              "      <th></th>\n",
              "      <th>movieId</th>\n",
              "      <th>title</th>\n",
              "      <th>genres</th>\n",
              "      <th>year</th>\n",
              "      <th>name</th>\n",
              "      <th>genres_0</th>\n",
              "      <th>genres_1</th>\n",
              "      <th>genres_2</th>\n",
              "      <th>genres_3</th>\n",
              "      <th>genres_4</th>\n",
              "      <th>genres_5</th>\n",
              "      <th>genres_6</th>\n",
              "      <th>genres_7</th>\n",
              "      <th>genres_8</th>\n",
              "      <th>genres_9</th>\n",
              "      <th>qtd_genres</th>\n",
              "      <th>qtd_notas</th>\n",
              "      <th>rating</th>\n",
              "    </tr>\n",
              "  </thead>\n",
              "  <tbody>\n",
              "    <tr>\n",
              "      <th>0</th>\n",
              "      <td>1</td>\n",
              "      <td>Toy Story (1995)</td>\n",
              "      <td>Adventure|Animation|Children|Comedy|Fantasy</td>\n",
              "      <td>1995</td>\n",
              "      <td>Toy Story</td>\n",
              "      <td>Adventure</td>\n",
              "      <td>Animation</td>\n",
              "      <td>Children</td>\n",
              "      <td>Comedy</td>\n",
              "      <td>Fantasy</td>\n",
              "      <td>NaN</td>\n",
              "      <td>NaN</td>\n",
              "      <td>NaN</td>\n",
              "      <td>NaN</td>\n",
              "      <td>NaN</td>\n",
              "      <td>5</td>\n",
              "      <td>215</td>\n",
              "      <td>3.920930</td>\n",
              "    </tr>\n",
              "    <tr>\n",
              "      <th>1</th>\n",
              "      <td>2</td>\n",
              "      <td>Jumanji (1995)</td>\n",
              "      <td>Adventure|Children|Fantasy</td>\n",
              "      <td>1995</td>\n",
              "      <td>Jumanji</td>\n",
              "      <td>Adventure</td>\n",
              "      <td>Children</td>\n",
              "      <td>Fantasy</td>\n",
              "      <td>NaN</td>\n",
              "      <td>NaN</td>\n",
              "      <td>NaN</td>\n",
              "      <td>NaN</td>\n",
              "      <td>NaN</td>\n",
              "      <td>NaN</td>\n",
              "      <td>NaN</td>\n",
              "      <td>3</td>\n",
              "      <td>110</td>\n",
              "      <td>3.431818</td>\n",
              "    </tr>\n",
              "    <tr>\n",
              "      <th>2</th>\n",
              "      <td>3</td>\n",
              "      <td>Grumpier Old Men (1995)</td>\n",
              "      <td>Comedy|Romance</td>\n",
              "      <td>1995</td>\n",
              "      <td>Grumpier Old Men</td>\n",
              "      <td>Comedy</td>\n",
              "      <td>Romance</td>\n",
              "      <td>NaN</td>\n",
              "      <td>NaN</td>\n",
              "      <td>NaN</td>\n",
              "      <td>NaN</td>\n",
              "      <td>NaN</td>\n",
              "      <td>NaN</td>\n",
              "      <td>NaN</td>\n",
              "      <td>NaN</td>\n",
              "      <td>2</td>\n",
              "      <td>52</td>\n",
              "      <td>3.259615</td>\n",
              "    </tr>\n",
              "    <tr>\n",
              "      <th>3</th>\n",
              "      <td>4</td>\n",
              "      <td>Waiting to Exhale (1995)</td>\n",
              "      <td>Comedy|Drama|Romance</td>\n",
              "      <td>1995</td>\n",
              "      <td>Waiting to Exhale</td>\n",
              "      <td>Comedy</td>\n",
              "      <td>Drama</td>\n",
              "      <td>Romance</td>\n",
              "      <td>NaN</td>\n",
              "      <td>NaN</td>\n",
              "      <td>NaN</td>\n",
              "      <td>NaN</td>\n",
              "      <td>NaN</td>\n",
              "      <td>NaN</td>\n",
              "      <td>NaN</td>\n",
              "      <td>3</td>\n",
              "      <td>7</td>\n",
              "      <td>2.357143</td>\n",
              "    </tr>\n",
              "    <tr>\n",
              "      <th>4</th>\n",
              "      <td>5</td>\n",
              "      <td>Father of the Bride Part II (1995)</td>\n",
              "      <td>Comedy</td>\n",
              "      <td>1995</td>\n",
              "      <td>Father of the Bride Part II</td>\n",
              "      <td>Comedy</td>\n",
              "      <td>NaN</td>\n",
              "      <td>NaN</td>\n",
              "      <td>NaN</td>\n",
              "      <td>NaN</td>\n",
              "      <td>NaN</td>\n",
              "      <td>NaN</td>\n",
              "      <td>NaN</td>\n",
              "      <td>NaN</td>\n",
              "      <td>NaN</td>\n",
              "      <td>1</td>\n",
              "      <td>49</td>\n",
              "      <td>3.071429</td>\n",
              "    </tr>\n",
              "  </tbody>\n",
              "</table>\n",
              "</div>"
            ],
            "text/plain": [
              "   movieId                               title  \\\n",
              "0        1                    Toy Story (1995)   \n",
              "1        2                      Jumanji (1995)   \n",
              "2        3             Grumpier Old Men (1995)   \n",
              "3        4            Waiting to Exhale (1995)   \n",
              "4        5  Father of the Bride Part II (1995)   \n",
              "\n",
              "                                        genres  year  \\\n",
              "0  Adventure|Animation|Children|Comedy|Fantasy  1995   \n",
              "1                   Adventure|Children|Fantasy  1995   \n",
              "2                               Comedy|Romance  1995   \n",
              "3                         Comedy|Drama|Romance  1995   \n",
              "4                                       Comedy  1995   \n",
              "\n",
              "                          name   genres_0   genres_1  genres_2 genres_3  \\\n",
              "0                    Toy Story  Adventure  Animation  Children   Comedy   \n",
              "1                      Jumanji  Adventure   Children   Fantasy      NaN   \n",
              "2             Grumpier Old Men     Comedy    Romance       NaN      NaN   \n",
              "3            Waiting to Exhale     Comedy      Drama   Romance      NaN   \n",
              "4  Father of the Bride Part II     Comedy        NaN       NaN      NaN   \n",
              "\n",
              "  genres_4 genres_5 genres_6 genres_7 genres_8 genres_9  qtd_genres  \\\n",
              "0  Fantasy      NaN      NaN      NaN      NaN      NaN           5   \n",
              "1      NaN      NaN      NaN      NaN      NaN      NaN           3   \n",
              "2      NaN      NaN      NaN      NaN      NaN      NaN           2   \n",
              "3      NaN      NaN      NaN      NaN      NaN      NaN           3   \n",
              "4      NaN      NaN      NaN      NaN      NaN      NaN           1   \n",
              "\n",
              "   qtd_notas    rating  \n",
              "0        215  3.920930  \n",
              "1        110  3.431818  \n",
              "2         52  3.259615  \n",
              "3          7  2.357143  \n",
              "4         49  3.071429  "
            ]
          },
          "execution_count": 10,
          "metadata": {},
          "output_type": "execute_result"
        }
      ],
      "source": [
        "df_movies.head()"
      ]
    },
    {
      "cell_type": "code",
      "execution_count": 11,
      "id": "-DBDDt2u1CBa",
      "metadata": {
        "colab": {
          "base_uri": "https://localhost:8080/"
        },
        "id": "-DBDDt2u1CBa",
        "outputId": "24955642-59ed-4be3-828f-595c9a298a66"
      },
      "outputs": [
        {
          "name": "stdout",
          "output_type": "stream",
          "text": [
            "<class 'pandas.core.frame.DataFrame'>\n",
            "Int64Index: 9724 entries, 0 to 9723\n",
            "Data columns (total 18 columns):\n",
            " #   Column      Non-Null Count  Dtype  \n",
            "---  ------      --------------  -----  \n",
            " 0   movieId     9724 non-null   int64  \n",
            " 1   title       9724 non-null   object \n",
            " 2   genres      9724 non-null   object \n",
            " 3   year        9724 non-null   int64  \n",
            " 4   name        9724 non-null   object \n",
            " 5   genres_0    9724 non-null   object \n",
            " 6   genres_1    6879 non-null   object \n",
            " 7   genres_2    3665 non-null   object \n",
            " 8   genres_3    1335 non-null   object \n",
            " 9   genres_4    348 non-null    object \n",
            " 10  genres_5    77 non-null     object \n",
            " 11  genres_6    14 non-null     object \n",
            " 12  genres_7    2 non-null      object \n",
            " 13  genres_8    1 non-null      object \n",
            " 14  genres_9    1 non-null      object \n",
            " 15  qtd_genres  9724 non-null   int64  \n",
            " 16  qtd_notas   9724 non-null   int64  \n",
            " 17  rating      9724 non-null   float64\n",
            "dtypes: float64(1), int64(4), object(13)\n",
            "memory usage: 1.4+ MB\n"
          ]
        }
      ],
      "source": [
        "# Tipo das variáveis\n",
        "df_movies.info()"
      ]
    },
    {
      "cell_type": "code",
      "execution_count": 12,
      "id": "WllCtBXs2ouy",
      "metadata": {
        "colab": {
          "base_uri": "https://localhost:8080/"
        },
        "id": "WllCtBXs2ouy",
        "outputId": "cecf537a-737b-4cb8-bdcb-dae274a47ea7"
      },
      "outputs": [
        {
          "data": {
            "text/plain": [
              "movieId          0\n",
              "title            0\n",
              "genres           0\n",
              "year             0\n",
              "name             0\n",
              "genres_0         0\n",
              "genres_1      2845\n",
              "genres_2      6059\n",
              "genres_3      8389\n",
              "genres_4      9376\n",
              "genres_5      9647\n",
              "genres_6      9710\n",
              "genres_7      9722\n",
              "genres_8      9723\n",
              "genres_9      9723\n",
              "qtd_genres       0\n",
              "qtd_notas        0\n",
              "rating           0\n",
              "dtype: int64"
            ]
          },
          "execution_count": 12,
          "metadata": {},
          "output_type": "execute_result"
        }
      ],
      "source": [
        "# Quantidade de dados nulos\n",
        "df_movies.isna().sum()"
      ]
    },
    {
      "cell_type": "code",
      "execution_count": 13,
      "id": "_1BWtE6yNinp",
      "metadata": {
        "colab": {
          "base_uri": "https://localhost:8080/"
        },
        "id": "_1BWtE6yNinp",
        "outputId": "cc3d96a7-bd89-4623-d82b-2af6e9b32f3d"
      },
      "outputs": [
        {
          "name": "stdout",
          "output_type": "stream",
          "text": [
            "O dataset MOVIES tranformado possui  9724  linhas e  18  colunas\n"
          ]
        }
      ],
      "source": [
        "print(\"O dataset MOVIES tranformado possui \", df_movies.shape[0], \" linhas e \", df_movies.shape[1],\" colunas\")"
      ]
    },
    {
      "cell_type": "code",
      "execution_count": 14,
      "id": "bF3qKMC66HiM",
      "metadata": {
        "colab": {
          "base_uri": "https://localhost:8080/"
        },
        "id": "bF3qKMC66HiM",
        "outputId": "bdc908ef-2e3e-4412-fd38-ef68699b63eb"
      },
      "outputs": [
        {
          "data": {
            "text/plain": [
              "2002    0.031983\n",
              "2006    0.030337\n",
              "2001    0.030234\n",
              "2007    0.029206\n",
              "2000    0.029103\n",
              "Name: year, dtype: float64"
            ]
          },
          "execution_count": 14,
          "metadata": {},
          "output_type": "execute_result"
        }
      ],
      "source": [
        "# Os anos que mais possuem filmes são 2002, 2006 e 2001, com cerca de 3% do total em cada ano.\n",
        "df_movies[\"year\"].value_counts(normalize=True).head()\n",
        "#movieId\ttitle\tgenres"
      ]
    },
    {
      "cell_type": "markdown",
      "id": "DOwiYRKS0-U1",
      "metadata": {
        "id": "DOwiYRKS0-U1"
      },
      "source": [
        "## Explorando os dados: RATINGS"
      ]
    },
    {
      "cell_type": "code",
      "execution_count": 15,
      "id": "DNaLGoGoBz_h",
      "metadata": {
        "colab": {
          "base_uri": "https://localhost:8080/",
          "height": 206
        },
        "id": "DNaLGoGoBz_h",
        "outputId": "27c6987b-bc78-485d-85ba-3a9ad635159b"
      },
      "outputs": [
        {
          "data": {
            "text/html": [
              "<div>\n",
              "<style scoped>\n",
              "    .dataframe tbody tr th:only-of-type {\n",
              "        vertical-align: middle;\n",
              "    }\n",
              "\n",
              "    .dataframe tbody tr th {\n",
              "        vertical-align: top;\n",
              "    }\n",
              "\n",
              "    .dataframe thead th {\n",
              "        text-align: right;\n",
              "    }\n",
              "</style>\n",
              "<table border=\"1\" class=\"dataframe\">\n",
              "  <thead>\n",
              "    <tr style=\"text-align: right;\">\n",
              "      <th></th>\n",
              "      <th>userId</th>\n",
              "      <th>movieId</th>\n",
              "      <th>rating</th>\n",
              "      <th>timestamp</th>\n",
              "      <th>date_timestamp</th>\n",
              "    </tr>\n",
              "  </thead>\n",
              "  <tbody>\n",
              "    <tr>\n",
              "      <th>0</th>\n",
              "      <td>1</td>\n",
              "      <td>1</td>\n",
              "      <td>4.0</td>\n",
              "      <td>964982703</td>\n",
              "      <td>2000-07-30 18:45:03</td>\n",
              "    </tr>\n",
              "    <tr>\n",
              "      <th>1</th>\n",
              "      <td>1</td>\n",
              "      <td>3</td>\n",
              "      <td>4.0</td>\n",
              "      <td>964981247</td>\n",
              "      <td>2000-07-30 18:20:47</td>\n",
              "    </tr>\n",
              "    <tr>\n",
              "      <th>2</th>\n",
              "      <td>1</td>\n",
              "      <td>6</td>\n",
              "      <td>4.0</td>\n",
              "      <td>964982224</td>\n",
              "      <td>2000-07-30 18:37:04</td>\n",
              "    </tr>\n",
              "    <tr>\n",
              "      <th>3</th>\n",
              "      <td>1</td>\n",
              "      <td>47</td>\n",
              "      <td>5.0</td>\n",
              "      <td>964983815</td>\n",
              "      <td>2000-07-30 19:03:35</td>\n",
              "    </tr>\n",
              "    <tr>\n",
              "      <th>4</th>\n",
              "      <td>1</td>\n",
              "      <td>50</td>\n",
              "      <td>5.0</td>\n",
              "      <td>964982931</td>\n",
              "      <td>2000-07-30 18:48:51</td>\n",
              "    </tr>\n",
              "  </tbody>\n",
              "</table>\n",
              "</div>"
            ],
            "text/plain": [
              "   userId  movieId  rating  timestamp      date_timestamp\n",
              "0       1        1     4.0  964982703 2000-07-30 18:45:03\n",
              "1       1        3     4.0  964981247 2000-07-30 18:20:47\n",
              "2       1        6     4.0  964982224 2000-07-30 18:37:04\n",
              "3       1       47     5.0  964983815 2000-07-30 19:03:35\n",
              "4       1       50     5.0  964982931 2000-07-30 18:48:51"
            ]
          },
          "execution_count": 15,
          "metadata": {},
          "output_type": "execute_result"
        }
      ],
      "source": [
        "df_ratings.head()"
      ]
    },
    {
      "cell_type": "code",
      "execution_count": 16,
      "id": "wrGXcdYi-zR5",
      "metadata": {
        "colab": {
          "base_uri": "https://localhost:8080/"
        },
        "id": "wrGXcdYi-zR5",
        "outputId": "6a157877-9ddd-4c52-b3b3-1dcb7f663353"
      },
      "outputs": [
        {
          "name": "stdout",
          "output_type": "stream",
          "text": [
            "<class 'pandas.core.frame.DataFrame'>\n",
            "RangeIndex: 100836 entries, 0 to 100835\n",
            "Data columns (total 5 columns):\n",
            " #   Column          Non-Null Count   Dtype         \n",
            "---  ------          --------------   -----         \n",
            " 0   userId          100836 non-null  int64         \n",
            " 1   movieId         100836 non-null  int64         \n",
            " 2   rating          100836 non-null  float64       \n",
            " 3   timestamp       100836 non-null  int64         \n",
            " 4   date_timestamp  100836 non-null  datetime64[ns]\n",
            "dtypes: datetime64[ns](1), float64(1), int64(3)\n",
            "memory usage: 3.8 MB\n"
          ]
        }
      ],
      "source": [
        "# Tipo das variáveis\n",
        "df_ratings.info()"
      ]
    },
    {
      "cell_type": "code",
      "execution_count": 17,
      "id": "_3jrtUM6-2OW",
      "metadata": {
        "colab": {
          "base_uri": "https://localhost:8080/"
        },
        "id": "_3jrtUM6-2OW",
        "outputId": "ce6fba96-6a7a-464f-f036-c0a1cafcfa94"
      },
      "outputs": [
        {
          "data": {
            "text/plain": [
              "userId            0\n",
              "movieId           0\n",
              "rating            0\n",
              "timestamp         0\n",
              "date_timestamp    0\n",
              "dtype: int64"
            ]
          },
          "execution_count": 17,
          "metadata": {},
          "output_type": "execute_result"
        }
      ],
      "source": [
        "# Quantidade de dados nulos\n",
        "df_ratings.isna().sum()"
      ]
    },
    {
      "cell_type": "code",
      "execution_count": 18,
      "id": "KOb52eVi-8Ga",
      "metadata": {
        "colab": {
          "base_uri": "https://localhost:8080/"
        },
        "id": "KOb52eVi-8Ga",
        "outputId": "379491a4-babc-474b-88a9-ae80079661ea"
      },
      "outputs": [
        {
          "name": "stdout",
          "output_type": "stream",
          "text": [
            "O dataset MOVIES tranformado possui  100836  linhas e  5  colunas\n"
          ]
        }
      ],
      "source": [
        "print(\"O dataset MOVIES tranformado possui \", df_ratings.shape[0], \" linhas e \", df_ratings.shape[1],\" colunas\")"
      ]
    },
    {
      "cell_type": "code",
      "execution_count": 19,
      "id": "b34g7BZw_A4o",
      "metadata": {
        "colab": {
          "base_uri": "https://localhost:8080/"
        },
        "id": "b34g7BZw_A4o",
        "outputId": "1188a197-aab6-4368-a115-8fdcd8092537"
      },
      "outputs": [
        {
          "data": {
            "text/plain": [
              "3.501556983616962"
            ]
          },
          "execution_count": 19,
          "metadata": {},
          "output_type": "execute_result"
        }
      ],
      "source": [
        "# Média de rating total\n",
        "df_ratings[\"rating\"].mean()"
      ]
    },
    {
      "cell_type": "code",
      "execution_count": 20,
      "id": "r3AadCKo_N08",
      "metadata": {
        "colab": {
          "base_uri": "https://localhost:8080/"
        },
        "id": "r3AadCKo_N08",
        "outputId": "dc500264-c363-4d60-8a75-17f8260dbbd5"
      },
      "outputs": [
        {
          "data": {
            "text/plain": [
              "9724"
            ]
          },
          "execution_count": 20,
          "metadata": {},
          "output_type": "execute_result"
        }
      ],
      "source": [
        "# Quantidade de fimes com pelo menos uma nota\n",
        "len(df_ratings[\"movieId\"].unique())"
      ]
    },
    {
      "cell_type": "markdown",
      "id": "tTsYfmF71qmm",
      "metadata": {
        "id": "tTsYfmF71qmm"
      },
      "source": [
        "# Respondendo as perguntas"
      ]
    },
    {
      "cell_type": "markdown",
      "id": "CJ9iRRgw11Fr",
      "metadata": {
        "id": "CJ9iRRgw11Fr"
      },
      "source": [
        "### 01 - Quantos gêneros o filme \"The Matrix\" tem? Quais são os gêneros?"
      ]
    },
    {
      "cell_type": "code",
      "execution_count": 21,
      "id": "LLEKn7GwORzI",
      "metadata": {
        "colab": {
          "base_uri": "https://localhost:8080/"
        },
        "id": "LLEKn7GwORzI",
        "outputId": "d4e44b82-1747-4fdf-926c-6665293599d8"
      },
      "outputs": [
        {
          "name": "stdout",
          "output_type": "stream",
          "text": [
            "Matrix possui os seguintes generos: \n",
            "  genres_0 genres_1  genres_2\n",
            "0   Action   Sci-Fi  Thriller\n",
            "Que totalizam 3 generos diferentes\n"
          ]
        }
      ],
      "source": [
        "matrix = df_movies[df_movies[\"name\"] == \"Matrix, The\"]\n",
        "genres_matrix = matrix.filter(regex = 'genres_', axis = 1).dropna(axis = 1, how = 'all')\n",
        "qtd_genres_matrix = matrix[matrix.filter(regex='genres_', axis = 1).columns].count(axis = 1)\n",
        "\n",
        "print(\"Matrix possui os seguintes generos: \")\n",
        "print(genres_matrix.reset_index(drop = True))\n",
        "\n",
        "print(\"Que totalizam\", qtd_genres_matrix.reset_index(drop = True)[0], \"generos diferentes\")\n"
      ]
    },
    {
      "cell_type": "markdown",
      "id": "r4DdVa5o14mU",
      "metadata": {
        "id": "r4DdVa5o14mU"
      },
      "source": [
        "### 02 - Quantos gêneros cada filme tem, em média?"
      ]
    },
    {
      "cell_type": "code",
      "execution_count": 22,
      "id": "1vD86pj6T2-7",
      "metadata": {
        "colab": {
          "base_uri": "https://localhost:8080/"
        },
        "id": "1vD86pj6T2-7",
        "outputId": "e6e6478b-48c7-4d4b-c585-196c238c654b"
      },
      "outputs": [
        {
          "name": "stdout",
          "output_type": "stream",
          "text": [
            "Cada filme possui em média 2.26717400246812 generos\n"
          ]
        }
      ],
      "source": [
        "mean_genres = df_movies[\"qtd_genres\"].mean()\n",
        "\n",
        "print(f\"Cada filme possui em média {mean_genres} generos\".format(mean_genres))"
      ]
    },
    {
      "cell_type": "markdown",
      "id": "WdiK-P8u1-24",
      "metadata": {
        "id": "WdiK-P8u1-24"
      },
      "source": [
        "### 03 - Quais são os cinco filmes com maior número de gêneros?"
      ]
    },
    {
      "cell_type": "code",
      "execution_count": 23,
      "id": "ZeweNMTRVrMY",
      "metadata": {
        "colab": {
          "base_uri": "https://localhost:8080/",
          "height": 206
        },
        "id": "ZeweNMTRVrMY",
        "outputId": "c6c8c2f4-7971-4a43-e19c-65596c0b7ca8"
      },
      "outputs": [
        {
          "data": {
            "text/html": [
              "<div>\n",
              "<style scoped>\n",
              "    .dataframe tbody tr th:only-of-type {\n",
              "        vertical-align: middle;\n",
              "    }\n",
              "\n",
              "    .dataframe tbody tr th {\n",
              "        vertical-align: top;\n",
              "    }\n",
              "\n",
              "    .dataframe thead th {\n",
              "        text-align: right;\n",
              "    }\n",
              "</style>\n",
              "<table border=\"1\" class=\"dataframe\">\n",
              "  <thead>\n",
              "    <tr style=\"text-align: right;\">\n",
              "      <th></th>\n",
              "      <th>title</th>\n",
              "      <th>qtd_genres</th>\n",
              "    </tr>\n",
              "  </thead>\n",
              "  <tbody>\n",
              "    <tr>\n",
              "      <th>7424</th>\n",
              "      <td>Rubber (2010)</td>\n",
              "      <td>10</td>\n",
              "    </tr>\n",
              "    <tr>\n",
              "      <th>5543</th>\n",
              "      <td>Patlabor: The Movie (Kidô keisatsu patorebâ: T...</td>\n",
              "      <td>8</td>\n",
              "    </tr>\n",
              "    <tr>\n",
              "      <th>7533</th>\n",
              "      <td>Mars Needs Moms (2011)</td>\n",
              "      <td>7</td>\n",
              "    </tr>\n",
              "    <tr>\n",
              "      <th>3455</th>\n",
              "      <td>Osmosis Jones (2001)</td>\n",
              "      <td>7</td>\n",
              "    </tr>\n",
              "    <tr>\n",
              "      <th>6445</th>\n",
              "      <td>Aqua Teen Hunger Force Colon Movie Film for Th...</td>\n",
              "      <td>7</td>\n",
              "    </tr>\n",
              "  </tbody>\n",
              "</table>\n",
              "</div>"
            ],
            "text/plain": [
              "                                                  title  qtd_genres\n",
              "7424                                      Rubber (2010)          10\n",
              "5543  Patlabor: The Movie (Kidô keisatsu patorebâ: T...           8\n",
              "7533                             Mars Needs Moms (2011)           7\n",
              "3455                               Osmosis Jones (2001)           7\n",
              "6445  Aqua Teen Hunger Force Colon Movie Film for Th...           7"
            ]
          },
          "execution_count": 23,
          "metadata": {},
          "output_type": "execute_result"
        }
      ],
      "source": [
        "# Os filmes abaixo são os TOP 5 com maior número de generos\n",
        "df_movies[[\"title\", \"qtd_genres\"]].sort_values(by = [\"qtd_genres\"], ascending = False).head(5)"
      ]
    },
    {
      "cell_type": "markdown",
      "id": "fptAlKbB2A_j",
      "metadata": {
        "id": "fptAlKbB2A_j"
      },
      "source": [
        "### 04 - Quantos usuários deram nota para o filme \"The Matrix\"?"
      ]
    },
    {
      "cell_type": "code",
      "execution_count": 24,
      "id": "kxSYBI2JWRMC",
      "metadata": {
        "colab": {
          "base_uri": "https://localhost:8080/"
        },
        "id": "kxSYBI2JWRMC",
        "outputId": "f1e3c54f-9ea1-46b0-dd58-ff0ef4e3a007"
      },
      "outputs": [
        {
          "name": "stdout",
          "output_type": "stream",
          "text": [
            "O filme matrix teve um total de 278 notas.\n"
          ]
        }
      ],
      "source": [
        "matrix_id = int(df_movies[df_movies[\"name\"] == \"Matrix, The\"][\"movieId\"])\n",
        "\n",
        "qtd_notas_matrix = len(df_ratings[df_ratings[\"movieId\"] == matrix_id][\"userId\"].unique())\n",
        "\n",
        "print(f\"O filme matrix teve um total de {qtd_notas_matrix} notas.\".format(qtd_notas_matrix))"
      ]
    },
    {
      "cell_type": "markdown",
      "id": "5nLmavpz2Cjb",
      "metadata": {
        "id": "5nLmavpz2Cjb"
      },
      "source": [
        "### 05 - Quantos usuários, em média, deram nota para cada filme?"
      ]
    },
    {
      "cell_type": "code",
      "execution_count": 25,
      "id": "1hcMGe4fhR-M",
      "metadata": {
        "colab": {
          "base_uri": "https://localhost:8080/"
        },
        "id": "1hcMGe4fhR-M",
        "outputId": "2d689328-2205-4bd1-bcce-950a374806b9"
      },
      "outputs": [
        {
          "name": "stdout",
          "output_type": "stream",
          "text": [
            "Cada filme obteve, em média 10.369806663924312 usuários distintos votando\n"
          ]
        }
      ],
      "source": [
        "media_qtd_notas_por_filme = df_ratings.groupby(by = [\"movieId\"])[\"userId\"].count().mean()\n",
        "\n",
        "print(f\"Cada filme obteve, em média {media_qtd_notas_por_filme} usuários distintos votando\".format(media_qtd_notas_por_filme))"
      ]
    },
    {
      "cell_type": "markdown",
      "id": "LGBqUfT62FFU",
      "metadata": {
        "id": "LGBqUfT62FFU"
      },
      "source": [
        "### 06 - Quais são os cinco filmes para os quais mais usuários deram nota?"
      ]
    },
    {
      "cell_type": "code",
      "execution_count": 26,
      "id": "7c63T6L5iYuv",
      "metadata": {
        "colab": {
          "base_uri": "https://localhost:8080/",
          "height": 206
        },
        "id": "7c63T6L5iYuv",
        "outputId": "3dbb79e2-d643-4730-9c3e-39b115ae1bee"
      },
      "outputs": [
        {
          "data": {
            "text/html": [
              "<div>\n",
              "<style scoped>\n",
              "    .dataframe tbody tr th:only-of-type {\n",
              "        vertical-align: middle;\n",
              "    }\n",
              "\n",
              "    .dataframe tbody tr th {\n",
              "        vertical-align: top;\n",
              "    }\n",
              "\n",
              "    .dataframe thead th {\n",
              "        text-align: right;\n",
              "    }\n",
              "</style>\n",
              "<table border=\"1\" class=\"dataframe\">\n",
              "  <thead>\n",
              "    <tr style=\"text-align: right;\">\n",
              "      <th></th>\n",
              "      <th>title</th>\n",
              "      <th>qtd_notas</th>\n",
              "    </tr>\n",
              "  </thead>\n",
              "  <tbody>\n",
              "    <tr>\n",
              "      <th>314</th>\n",
              "      <td>Forrest Gump (1994)</td>\n",
              "      <td>329</td>\n",
              "    </tr>\n",
              "    <tr>\n",
              "      <th>277</th>\n",
              "      <td>Shawshank Redemption, The (1994)</td>\n",
              "      <td>317</td>\n",
              "    </tr>\n",
              "    <tr>\n",
              "      <th>257</th>\n",
              "      <td>Pulp Fiction (1994)</td>\n",
              "      <td>307</td>\n",
              "    </tr>\n",
              "    <tr>\n",
              "      <th>510</th>\n",
              "      <td>Silence of the Lambs, The (1991)</td>\n",
              "      <td>279</td>\n",
              "    </tr>\n",
              "    <tr>\n",
              "      <th>1938</th>\n",
              "      <td>Matrix, The (1999)</td>\n",
              "      <td>278</td>\n",
              "    </tr>\n",
              "  </tbody>\n",
              "</table>\n",
              "</div>"
            ],
            "text/plain": [
              "                                 title  qtd_notas\n",
              "314                Forrest Gump (1994)        329\n",
              "277   Shawshank Redemption, The (1994)        317\n",
              "257                Pulp Fiction (1994)        307\n",
              "510   Silence of the Lambs, The (1991)        279\n",
              "1938                Matrix, The (1999)        278"
            ]
          },
          "execution_count": 26,
          "metadata": {},
          "output_type": "execute_result"
        }
      ],
      "source": [
        "df_movies[[\"title\", \"qtd_notas\"]].sort_values(by = [\"qtd_notas\"], ascending=False).head(5)"
      ]
    },
    {
      "cell_type": "markdown",
      "id": "g2RbEcIS2GlJ",
      "metadata": {
        "id": "g2RbEcIS2GlJ"
      },
      "source": [
        "### 07 - Qual o rating médio do filme \"The Matrix\"?"
      ]
    },
    {
      "cell_type": "code",
      "execution_count": 27,
      "id": "pfRx5L_JkITG",
      "metadata": {
        "colab": {
          "base_uri": "https://localhost:8080/"
        },
        "id": "pfRx5L_JkITG",
        "outputId": "e99336d4-6579-4c6f-de9d-f4f091d6c609"
      },
      "outputs": [
        {
          "name": "stdout",
          "output_type": "stream",
          "text": [
            "A nota média do filme The Matrix foi 4.192446043165468\n"
          ]
        }
      ],
      "source": [
        "matrix_id = int(df_movies[df_movies[\"name\"] == \"Matrix, The\"][\"movieId\"])\n",
        "\n",
        "matrix_rating = df_ratings[df_ratings[\"movieId\"] == matrix_id][\"rating\"].mean()\n",
        "\n",
        "print(f\"A nota média do filme The Matrix foi {matrix_rating}\".format(matrix_rating))"
      ]
    },
    {
      "cell_type": "markdown",
      "id": "VFWhX43v2IA2",
      "metadata": {
        "id": "VFWhX43v2IA2"
      },
      "source": [
        "### 08 - Cada filme tem um rating médio. Qual a média desses ratings, por gênero?"
      ]
    },
    {
      "cell_type": "code",
      "execution_count": 28,
      "id": "OBiFWSzREIkU",
      "metadata": {
        "colab": {
          "base_uri": "https://localhost:8080/",
          "height": 49
        },
        "id": "OBiFWSzREIkU",
        "outputId": "4071c8b3-0497-47e1-de9a-17dd272f0aa9"
      },
      "outputs": [
        {
          "data": {
            "text/html": [
              "<div>\n",
              "<style scoped>\n",
              "    .dataframe tbody tr th:only-of-type {\n",
              "        vertical-align: middle;\n",
              "    }\n",
              "\n",
              "    .dataframe tbody tr th {\n",
              "        vertical-align: top;\n",
              "    }\n",
              "\n",
              "    .dataframe thead th {\n",
              "        text-align: right;\n",
              "    }\n",
              "</style>\n",
              "<table border=\"1\" class=\"dataframe\">\n",
              "  <thead>\n",
              "    <tr style=\"text-align: right;\">\n",
              "      <th></th>\n",
              "      <th>index</th>\n",
              "      <th>genres</th>\n",
              "      <th>rating</th>\n",
              "    </tr>\n",
              "  </thead>\n",
              "  <tbody>\n",
              "  </tbody>\n",
              "</table>\n",
              "</div>"
            ],
            "text/plain": [
              "Empty DataFrame\n",
              "Columns: [index, genres, rating]\n",
              "Index: []"
            ]
          },
          "execution_count": 28,
          "metadata": {},
          "output_type": "execute_result"
        }
      ],
      "source": [
        "df_movies[[\"genres\",\"rating\"]][0:0].reset_index()"
      ]
    },
    {
      "cell_type": "code",
      "execution_count": 29,
      "id": "brMzmmzerK9F",
      "metadata": {
        "colab": {
          "base_uri": "https://localhost:8080/"
        },
        "id": "brMzmmzerK9F",
        "outputId": "cac36b8f-c160-4c34-e62d-b212d5fa7e7b"
      },
      "outputs": [
        {
          "data": {
            "text/plain": [
              "genres\n",
              "Documentary           3.781682\n",
              "Film-Noir             3.670471\n",
              "War                   3.571655\n",
              "Animation             3.497119\n",
              "Drama                 3.420905\n",
              "Western               3.383389\n",
              "(no genres listed)    3.371148\n",
              "Romance               3.364870\n",
              "Mystery               3.330364\n",
              "IMAX                  3.311996\n",
              "Crime                 3.301844\n",
              "Musical               3.296371\n",
              "Fantasy               3.218843\n",
              "Adventure             3.215230\n",
              "Comedy                3.181716\n",
              "Thriller              3.156116\n",
              "Children              3.107690\n",
              "Sci-Fi                3.102637\n",
              "Action                3.094498\n",
              "Horror                2.918965\n",
              "Name: rating, dtype: float64"
            ]
          },
          "execution_count": 29,
          "metadata": {},
          "output_type": "execute_result"
        }
      ],
      "source": [
        "# Gera lista de colunas para iterar\n",
        "genre_list = matrix.filter(regex='genres_', axis = 1).columns.tolist()\n",
        "\n",
        "# Cria dataframe vazio para guardar o append das colunas\n",
        "df_rating_by_genre = df_movies[[\"genres\",\"rating\"]][0:0].reset_index()\n",
        "\n",
        "# For que pega cada coluna de genero_(i) e o seu respectivo rating e append em uma tabela única para facilitar o calculo para cada genero \n",
        "for i in set(genre_list):\n",
        "    df_temp = df_movies[[ i, \"rating\"]]\n",
        "    df_temp.columns = [\"genres\", \"rating\"]  \n",
        "    df_rating_by_genre = df_rating_by_genre.append(df_temp, ignore_index = True)\n",
        "    df_rating_by_genre = df_rating_by_genre[~df_rating_by_genre[\"genres\"].isnull()]\n",
        "\n",
        "# Drop da coluna de index\n",
        "df_rating_by_genre = df_rating_by_genre.drop(\"index\", axis = 1)\n",
        "\n",
        "df_rating_by_genre.groupby(by=[\"genres\"])[\"rating\"].mean().sort_values(ascending=False)"
      ]
    },
    {
      "cell_type": "markdown",
      "id": "RGBwsgUc2JTa",
      "metadata": {
        "id": "RGBwsgUc2JTa"
      },
      "source": [
        "### 09 - Para cada gênero de filme, quantos usuários deram cada nota possível?\n"
      ]
    },
    {
      "cell_type": "code",
      "execution_count": 30,
      "id": "8T5z12WC8tc6",
      "metadata": {
        "colab": {
          "base_uri": "https://localhost:8080/"
        },
        "id": "8T5z12WC8tc6",
        "outputId": "14564216-6260-439b-f013-ceea32692f74"
      },
      "outputs": [
        {
          "data": {
            "text/plain": [
              "genres\n",
              "IMAX                  26.234177\n",
              "Adventure             19.145008\n",
              "Sci-Fi                17.594898\n",
              "Action                16.758753\n",
              "Fantasy               15.210797\n",
              "Thriller              14.003176\n",
              "Crime                 13.947324\n",
              "Children              13.867470\n",
              "Mystery               13.392670\n",
              "War                   12.753281\n",
              "Musical               12.426426\n",
              "Western               11.556886\n",
              "Animation             11.455738\n",
              "Romance               11.391578\n",
              "Comedy                10.405809\n",
              "Film-Noir             10.235294\n",
              "Drama                  9.640837\n",
              "Horror                 7.462641\n",
              "Documentary            2.783105\n",
              "(no genres listed)     1.382353\n",
              "Name: qtd_notas, dtype: float64"
            ]
          },
          "execution_count": 30,
          "metadata": {},
          "output_type": "execute_result"
        }
      ],
      "source": [
        "# Gera lista de colunas para iterar\n",
        "genre_list = matrix.filter(regex='genres_', axis = 1).columns.tolist()\n",
        "\n",
        "# Cria dataframe vazio para guardar o append das colunas\n",
        "df_notas_by_genre = df_movies[[\"genres\", \"qtd_notas\"]][0:0].reset_index()\n",
        "\n",
        "# For que pega cada coluna de genero_(i) e o sua respectiva nota e append em uma tabela única para facilitar o calculo para cada genero \n",
        "for i in set(genre_list):\n",
        "    df_temp = df_movies[[ i, \"qtd_notas\"]]\n",
        "    df_temp.columns = [\"genres\", \"qtd_notas\"]  \n",
        "    df_notas_by_genre = df_notas_by_genre.append(df_temp, ignore_index = True)\n",
        "    df_notas_by_genre = df_notas_by_genre[~df_notas_by_genre[\"genres\"].isnull()]\n",
        "\n",
        "# Drop da coluna de index\n",
        "df_notas_by_genre = df_notas_by_genre.drop(\"index\", axis = 1)\n",
        "\n",
        "df_notas_by_genre.groupby(by = [\"genres\"])[\"qtd_notas\"].mean().sort_values(ascending = False)"
      ]
    }
  ],
  "metadata": {
    "colab": {
      "name": "01_Projeto_Movies.ipynb",
      "provenance": [],
      "toc_visible": true
    },
    "interpreter": {
      "hash": "a7f1401f5b724d56b656f679c2b3c40d4b37fd37e38d4f9cd8c891fdc9d0474f"
    },
    "kernelspec": {
      "display_name": "Python (DataScience)",
      "language": "python",
      "name": "python3"
    },
    "language_info": {
      "codemirror_mode": {
        "name": "ipython",
        "version": 3
      },
      "file_extension": ".py",
      "mimetype": "text/x-python",
      "name": "python",
      "nbconvert_exporter": "python",
      "pygments_lexer": "ipython3",
      "version": "3.8.12"
    }
  },
  "nbformat": 4,
  "nbformat_minor": 5
}
